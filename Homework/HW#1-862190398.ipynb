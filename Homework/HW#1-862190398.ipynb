{
 "cells": [
  {
   "cell_type": "markdown",
   "metadata": {},
   "source": [
    "HW#1\n",
    "\n",
    "Seyed Mohammad kami shirazi\n",
    "862190398\n",
    "\n",
    "\n",
    "a) omega(S,N)= SUM  k E{j|A sj=1} Omega(k, N-1)\n",
    "K is number of the rows which is note 0 in Matrix A\n",
    "\n",
    "\n",
    "omega(S,N)=omega{(K1,N-1)+(K2,N-1)+...(Kn,N-1)\n"
   ]
  },
  {
   "cell_type": "code",
   "execution_count": 35,
   "metadata": {},
   "outputs": [],
   "source": [
    "import numpy as np\n",
    "import matplotlib.pylab as plt"
   ]
  },
  {
   "cell_type": "code",
   "execution_count": 4,
   "metadata": {},
   "outputs": [
    {
     "data": {
      "text/plain": [
       "array([5, 6, 7, 8, 9])"
      ]
     },
     "execution_count": 4,
     "metadata": {},
     "output_type": "execute_result"
    }
   ],
   "source": [
    "o=np.array([5,6,7,8,9])\n",
    "o"
   ]
  },
  {
   "cell_type": "code",
   "execution_count": 5,
   "metadata": {},
   "outputs": [
    {
     "data": {
      "text/plain": [
       "array([[0, 0, 0, 0, 0, 0, 0, 0, 1, 0],\n",
       "       [0, 0, 1, 0, 1, 0, 0, 0, 0, 0],\n",
       "       [0, 1, 0, 1, 0, 1, 0, 0, 0, 0],\n",
       "       [0, 0, 1, 0, 0, 0, 1, 0, 0, 0],\n",
       "       [0, 1, 0, 0, 0, 1, 0, 1, 0, 0],\n",
       "       [0, 0, 1, 0, 1, 0, 1, 0, 1, 0],\n",
       "       [0, 0, 0, 1, 0, 1, 0, 0, 0, 1],\n",
       "       [0, 0, 0, 0, 1, 0, 0, 0, 1, 0],\n",
       "       [1, 0, 0, 0, 0, 1, 0, 1, 0, 1],\n",
       "       [0, 0, 0, 0, 0, 0, 1, 0, 1, 0]])"
      ]
     },
     "execution_count": 5,
     "metadata": {},
     "output_type": "execute_result"
    }
   ],
   "source": [
    "A=np.array([[0,0,0,0,0,0,0,0,1,0],\n",
    "            [0,0,1,0,1,0,0,0,0,0],\n",
    "           [0,1,0,1,0,1,0,0,0,0],\n",
    "            [0,0,1,0,0,0,1,0,0,0],\n",
    "           [0,1,0,0,0,1,0,1,0,0],\n",
    "           [0,0,1,0,1,0,1,0,1,0],\n",
    "           [0,0,0,1,0,1,0,0,0,1],\n",
    "           [0,0,0,0,1,0,0,0,1,0],\n",
    "           [1,0,0,0,0,1,0,1,0,1],\n",
    "           [0,0,0,0,0,0,1,0,1,0],])\n",
    "A"
   ]
  },
  {
   "cell_type": "code",
   "execution_count": 6,
   "metadata": {},
   "outputs": [
    {
     "data": {
      "text/plain": [
       "matrix([[0, 0, 0, 0, 0, 0, 0, 0, 1, 0],\n",
       "        [0, 0, 1, 0, 1, 0, 0, 0, 0, 0],\n",
       "        [0, 1, 0, 1, 0, 1, 0, 0, 0, 0],\n",
       "        [0, 0, 1, 0, 0, 0, 1, 0, 0, 0],\n",
       "        [0, 1, 0, 0, 0, 1, 0, 1, 0, 0],\n",
       "        [0, 0, 1, 0, 1, 0, 1, 0, 1, 0],\n",
       "        [0, 0, 0, 1, 0, 1, 0, 0, 0, 1],\n",
       "        [0, 0, 0, 0, 1, 0, 0, 0, 1, 0],\n",
       "        [1, 0, 0, 0, 0, 1, 0, 1, 0, 1],\n",
       "        [0, 0, 0, 0, 0, 0, 1, 0, 1, 0]])"
      ]
     },
     "execution_count": 6,
     "metadata": {},
     "output_type": "execute_result"
    }
   ],
   "source": [
    "A=np.matrix(A)\n",
    "A\n"
   ]
  },
  {
   "cell_type": "code",
   "execution_count": 7,
   "metadata": {},
   "outputs": [
    {
     "data": {
      "text/plain": [
       "matrix([[0, 0, 0, 0, 0, 0, 0, 0, 1, 0],\n",
       "        [0, 0, 1, 0, 1, 0, 0, 0, 0, 0],\n",
       "        [0, 1, 0, 1, 0, 1, 0, 0, 0, 0],\n",
       "        [0, 0, 1, 0, 0, 0, 1, 0, 0, 0],\n",
       "        [0, 1, 0, 0, 0, 1, 0, 1, 0, 0],\n",
       "        [0, 0, 1, 0, 1, 0, 1, 0, 1, 0],\n",
       "        [0, 0, 0, 1, 0, 1, 0, 0, 0, 1],\n",
       "        [0, 0, 0, 0, 1, 0, 0, 0, 1, 0],\n",
       "        [1, 0, 0, 0, 0, 1, 0, 1, 0, 1],\n",
       "        [0, 0, 0, 0, 0, 0, 1, 0, 1, 0]])"
      ]
     },
     "execution_count": 7,
     "metadata": {},
     "output_type": "execute_result"
    }
   ],
   "source": [
    "# problem 1.C\n",
    "A=A.T\n",
    "A\n"
   ]
  },
  {
   "cell_type": "code",
   "execution_count": 8,
   "metadata": {},
   "outputs": [
    {
     "data": {
      "text/plain": [
       "array([[1, 0, 0, 0, 0, 1, 0, 1, 0, 1],\n",
       "       [0, 2, 0, 1, 0, 2, 0, 1, 0, 0],\n",
       "       [0, 0, 3, 0, 2, 0, 2, 0, 1, 0],\n",
       "       [0, 1, 0, 2, 0, 2, 0, 0, 0, 1],\n",
       "       [0, 0, 2, 0, 3, 0, 1, 0, 2, 0],\n",
       "       [1, 2, 0, 2, 0, 4, 0, 2, 0, 2],\n",
       "       [0, 0, 2, 0, 1, 0, 3, 0, 2, 0],\n",
       "       [1, 1, 0, 0, 0, 2, 0, 2, 0, 1],\n",
       "       [0, 0, 1, 0, 2, 0, 2, 0, 4, 0],\n",
       "       [1, 0, 0, 1, 0, 2, 0, 1, 0, 2]])"
      ]
     },
     "execution_count": 8,
     "metadata": {},
     "output_type": "execute_result"
    }
   ],
   "source": [
    "A=np.array(A)\n",
    "np.dot(A,A)"
   ]
  },
  {
   "cell_type": "code",
   "execution_count": 9,
   "metadata": {},
   "outputs": [
    {
     "data": {
      "text/plain": [
       "array([1., 1., 1., 1., 1., 1., 1., 1., 1., 1.])"
      ]
     },
     "execution_count": 9,
     "metadata": {},
     "output_type": "execute_result"
    }
   ],
   "source": [
    "O=np.ones(10)\n",
    "O"
   ]
  },
  {
   "cell_type": "code",
   "execution_count": 10,
   "metadata": {},
   "outputs": [
    {
     "data": {
      "text/plain": [
       "matrix([[1., 1., 1., 1., 1., 1., 1., 1., 1., 1.]])"
      ]
     },
     "execution_count": 10,
     "metadata": {},
     "output_type": "execute_result"
    }
   ],
   "source": [
    "O=np.matrix(O)\n",
    "O"
   ]
  },
  {
   "cell_type": "code",
   "execution_count": 11,
   "metadata": {},
   "outputs": [
    {
     "data": {
      "text/plain": [
       "matrix([[1.],\n",
       "        [1.],\n",
       "        [1.],\n",
       "        [1.],\n",
       "        [1.],\n",
       "        [1.],\n",
       "        [1.],\n",
       "        [1.],\n",
       "        [1.],\n",
       "        [1.]])"
      ]
     },
     "execution_count": 11,
     "metadata": {},
     "output_type": "execute_result"
    }
   ],
   "source": [
    "O=O.T\n",
    "O"
   ]
  },
  {
   "cell_type": "code",
   "execution_count": 12,
   "metadata": {},
   "outputs": [
    {
     "data": {
      "text/plain": [
       "matrix([[1.],\n",
       "        [2.],\n",
       "        [3.],\n",
       "        [2.],\n",
       "        [3.],\n",
       "        [4.],\n",
       "        [3.],\n",
       "        [2.],\n",
       "        [4.],\n",
       "        [2.]])"
      ]
     },
     "execution_count": 12,
     "metadata": {},
     "output_type": "execute_result"
    }
   ],
   "source": [
    "B=np.array(A)\n",
    "c=np.dot(A,O)\n",
    "c"
   ]
  },
  {
   "cell_type": "code",
   "execution_count": 58,
   "metadata": {},
   "outputs": [
    {
     "data": {
      "text/plain": [
       "1.0"
      ]
     },
     "execution_count": 58,
     "metadata": {},
     "output_type": "execute_result"
    }
   ],
   "source": [
    "(c[0,0])"
   ]
  },
  {
   "cell_type": "code",
   "execution_count": 13,
   "metadata": {},
   "outputs": [],
   "source": [
    "#problem 1.D\n",
    "def Dialer_Probelm(S, N):\n",
    "    O=np.ones(10)\n",
    "    O=np.matrix(O)\n",
    "    O=O.T\n",
    "    B=np.array(A)\n",
    "    for i in range(N-2):\n",
    "        B=np.dot(A,B)\n",
    "    c=np.dot(B,O)\n",
    "    return(c[S])\n"
   ]
  },
  {
   "cell_type": "code",
   "execution_count": 14,
   "metadata": {},
   "outputs": [
    {
     "data": {
      "text/plain": [
       "matrix([[18713.]])"
      ]
     },
     "execution_count": 14,
     "metadata": {},
     "output_type": "execute_result"
    }
   ],
   "source": [
    "Dialer_Probelm(5, 10)"
   ]
  },
  {
   "cell_type": "markdown",
   "metadata": {},
   "source": [
    "part e)"
   ]
  },
  {
   "cell_type": "code",
   "execution_count": 16,
   "metadata": {},
   "outputs": [],
   "source": [
    "def Dialer_Probelm2(S, N):\n",
    "\n",
    "    O=np.ones(10)\n",
    "    O=np.matrix(O)\n",
    "    O=O.T\n",
    "    B=A\n",
    "    for i in range(N-2):\n",
    "        B=[[sum(x*y for x,y in zip(A_row,B_col)) for B_col in zip(*B)] for A_row in A]\n",
    "    \n",
    "\n",
    "    C=[[sum(x*y for x,y in zip(O_row,B_col)) for B_col in zip(*O)] for O_row in B]\n",
    "    return (C[S])"
   ]
  },
  {
   "cell_type": "code",
   "execution_count": 17,
   "metadata": {},
   "outputs": [
    {
     "data": {
      "text/plain": [
       "[matrix([[18713.]])]"
      ]
     },
     "execution_count": 17,
     "metadata": {},
     "output_type": "execute_result"
    }
   ],
   "source": [
    "Dialer_Probelm2(5, 10)"
   ]
  },
  {
   "cell_type": "code",
   "execution_count": 18,
   "metadata": {},
   "outputs": [],
   "source": [
    "import time"
   ]
  },
  {
   "cell_type": "code",
   "execution_count": 19,
   "metadata": {},
   "outputs": [],
   "source": [
    "t=time.time()"
   ]
  },
  {
   "cell_type": "code",
   "execution_count": 42,
   "metadata": {},
   "outputs": [],
   "source": [
    "def tme(S, N):\n",
    "    t1=time.time()\n",
    "    O=np.ones(10)\n",
    "    O=np.matrix(O)\n",
    "    O=O.T\n",
    "    B=np.array(A)\n",
    "    for i in range(N-2):\n",
    "        B=np.dot(A,B)\n",
    "    c=np.dot(B,O)\n",
    "    t2=time.time()\n",
    "    s=t2-t1\n",
    " #   print ('It took {s} seconds'.format(s=t2-t1))\n",
    "    return(s)"
   ]
  },
  {
   "cell_type": "code",
   "execution_count": 44,
   "metadata": {},
   "outputs": [
    {
     "data": {
      "text/plain": [
       "0.008994579315185547"
      ]
     },
     "execution_count": 44,
     "metadata": {},
     "output_type": "execute_result"
    }
   ],
   "source": [
    "tme(0,1000)"
   ]
  },
  {
   "cell_type": "code",
   "execution_count": 45,
   "metadata": {},
   "outputs": [],
   "source": [
    "N=range(0,1000)\n",
    "chart=[]\n",
    "for j in N:\n",
    "    chart.append(tme(0,j))"
   ]
  },
  {
   "cell_type": "code",
   "execution_count": 46,
   "metadata": {},
   "outputs": [],
   "source": [
    "chart=np.array(chart)"
   ]
  },
  {
   "cell_type": "code",
   "execution_count": 47,
   "metadata": {
    "scrolled": false
   },
   "outputs": [
    {
     "data": {
      "text/plain": [
       "array([0.        , 0.        , 0.        , 0.00099897, 0.        ,\n",
       "       0.        , 0.        , 0.        , 0.00099921, 0.        ,\n",
       "       0.        , 0.        , 0.        , 0.        , 0.00099897,\n",
       "       0.        , 0.        , 0.        , 0.        , 0.        ,\n",
       "       0.00100279, 0.        , 0.        , 0.        , 0.        ,\n",
       "       0.        , 0.00099969, 0.        , 0.        , 0.        ,\n",
       "       0.        , 0.        , 0.00100541, 0.        , 0.        ,\n",
       "       0.        , 0.        , 0.00099206, 0.        , 0.        ,\n",
       "       0.        , 0.        , 0.        , 0.00099897, 0.        ,\n",
       "       0.        , 0.        , 0.00099874, 0.        , 0.        ,\n",
       "       0.        , 0.        , 0.00099945, 0.        , 0.00099921,\n",
       "       0.        , 0.        , 0.        , 0.00099921, 0.        ,\n",
       "       0.        , 0.        , 0.00099897, 0.        , 0.        ,\n",
       "       0.00099874, 0.        , 0.        , 0.00099921, 0.        ,\n",
       "       0.        , 0.0009985 , 0.        , 0.        , 0.00099659,\n",
       "       0.00100017, 0.        , 0.00100112, 0.        , 0.        ,\n",
       "       0.00099874, 0.        , 0.        , 0.00099897, 0.        ,\n",
       "       0.        , 0.00099921, 0.        , 0.00099897, 0.        ,\n",
       "       0.        , 0.00099945, 0.        , 0.00099945, 0.        ,\n",
       "       0.0009985 , 0.        , 0.        , 0.0009985 , 0.        ,\n",
       "       0.00099945, 0.        , 0.00099921, 0.        , 0.        ,\n",
       "       0.00099874, 0.        , 0.00099683, 0.        , 0.00099874,\n",
       "       0.0010047 , 0.00199485, 0.00099778, 0.00100136, 0.0009973 ,\n",
       "       0.        , 0.00099874, 0.        , 0.00099874, 0.        ,\n",
       "       0.        , 0.00099897, 0.        , 0.00099969, 0.        ,\n",
       "       0.00099921, 0.        , 0.00099683, 0.        , 0.        ,\n",
       "       0.00099754, 0.        , 0.00099874, 0.00099993, 0.00100231,\n",
       "       0.        , 0.00099683, 0.        , 0.00099897, 0.        ,\n",
       "       0.00099874, 0.        , 0.00099897, 0.        , 0.00099897,\n",
       "       0.        , 0.00099921, 0.        , 0.00099921, 0.        ,\n",
       "       0.00099897, 0.        , 0.00099897, 0.        , 0.00099897,\n",
       "       0.00099921, 0.        , 0.00100112, 0.00099826, 0.        ,\n",
       "       0.00099778, 0.        , 0.00099921, 0.00099945, 0.        ,\n",
       "       0.00099874, 0.        , 0.00099874, 0.        , 0.00099945,\n",
       "       0.00099897, 0.        , 0.00099897, 0.        , 0.00099921,\n",
       "       0.0010004 , 0.        , 0.00099802, 0.00100017, 0.        ,\n",
       "       0.00099874, 0.00099921, 0.        , 0.00099897, 0.0009985 ,\n",
       "       0.0009985 , 0.        , 0.00099921, 0.        , 0.00099921,\n",
       "       0.00099874, 0.        , 0.00099897, 0.00099921, 0.        ,\n",
       "       0.00099921, 0.00099945, 0.00099874, 0.        , 0.00100112,\n",
       "       0.00099874, 0.        , 0.00099778, 0.0010004 , 0.        ,\n",
       "       0.        , 0.00099921, 0.00099754, 0.        , 0.0010004 ,\n",
       "       0.00099897, 0.        , 0.00099921, 0.00099897, 0.00099897,\n",
       "       0.        , 0.0009985 , 0.00099993, 0.        , 0.00099897,\n",
       "       0.00099897, 0.0009985 , 0.        , 0.00099969, 0.00099921,\n",
       "       0.00099826, 0.        , 0.00099945, 0.00099897, 0.00099921,\n",
       "       0.        , 0.00099921, 0.00099874, 0.00099874, 0.00099921,\n",
       "       0.00099945, 0.00099921, 0.        , 0.00099826, 0.00099921,\n",
       "       0.00099969, 0.00099921, 0.        , 0.00099921, 0.00099897,\n",
       "       0.00099921, 0.00099897, 0.        , 0.00099897, 0.00099897,\n",
       "       0.00099921, 0.00099921, 0.00099897, 0.        , 0.00099921,\n",
       "       0.00099874, 0.00099921, 0.00099969, 0.0009985 , 0.00099921,\n",
       "       0.00099874, 0.00099921, 0.        , 0.00099921, 0.00099897,\n",
       "       0.00099897, 0.00099897, 0.00099921, 0.00099945, 0.00099897,\n",
       "       0.00099874, 0.        , 0.00099921, 0.00099897, 0.00099921,\n",
       "       0.00099826, 0.00099969, 0.00099921, 0.00099897, 0.00099945,\n",
       "       0.00099897, 0.00099874, 0.00099921, 0.00099874, 0.        ,\n",
       "       0.00099945, 0.00099897, 0.00099897, 0.00099921, 0.00099921,\n",
       "       0.00099897, 0.00099897, 0.00099874, 0.00199795, 0.00099921,\n",
       "       0.0009985 , 0.00099921, 0.00099921, 0.00099945, 0.0009985 ,\n",
       "       0.00099897, 0.00099921, 0.00099921, 0.00099874, 0.00099945,\n",
       "       0.00099897, 0.00199747, 0.00099945, 0.00099921, 0.00099897,\n",
       "       0.00099945, 0.00099874, 0.00099921, 0.00099897, 0.00199747,\n",
       "       0.00099993, 0.00099587, 0.00100207, 0.00099921, 0.00099921,\n",
       "       0.00199771, 0.00099921, 0.00099921, 0.00099874, 0.00099921,\n",
       "       0.00099897, 0.00199795, 0.00099945, 0.00099897, 0.00099921,\n",
       "       0.00099921, 0.00099874, 0.00199795, 0.00099921, 0.00099945,\n",
       "       0.00099897, 0.00099897, 0.00199747, 0.00099969, 0.00099897,\n",
       "       0.00099897, 0.00099921, 0.00099897, 0.00199771, 0.00099969,\n",
       "       0.00099897, 0.00099897, 0.00099897, 0.00199795, 0.00099945,\n",
       "       0.00099874, 0.00099921, 0.00099921, 0.00199771, 0.00099945,\n",
       "       0.00099897, 0.00099945, 0.00199699, 0.00099993, 0.0009985 ,\n",
       "       0.00099921, 0.00099897, 0.00199771, 0.00099993, 0.00099874,\n",
       "       0.00099874, 0.00199819, 0.00099921, 0.00099897, 0.00099969,\n",
       "       0.00199771, 0.00099945, 0.00099921, 0.00099945, 0.00199723,\n",
       "       0.00099945, 0.00099921, 0.00199795, 0.00099945, 0.00099921,\n",
       "       0.00199699, 0.00099993, 0.00099945, 0.00199723, 0.00099969,\n",
       "       0.00199795, 0.00099945, 0.00099874, 0.00199771, 0.00099945,\n",
       "       0.00099945, 0.00099874, 0.00199819, 0.00099921, 0.00199771,\n",
       "       0.00099945, 0.00099897, 0.00199771, 0.00099945, 0.00099921,\n",
       "       0.00199747, 0.00099969, 0.00099921, 0.00199771, 0.00099945,\n",
       "       0.00199771, 0.00099945, 0.00099921, 0.00199771, 0.00099921,\n",
       "       0.00099921, 0.00199771, 0.00099945, 0.00199771, 0.00099969,\n",
       "       0.00099897, 0.00199795, 0.00099921, 0.00199771, 0.00099945,\n",
       "       0.00199795, 0.00099897, 0.00099945, 0.00199771, 0.00099969,\n",
       "       0.00199747, 0.00099945, 0.00199795, 0.00099921, 0.00199771,\n",
       "       0.00099969, 0.00099897, 0.00199795, 0.00099945, 0.00199747,\n",
       "       0.00099945, 0.00199795, 0.00099921, 0.00199795, 0.00099921,\n",
       "       0.00199771, 0.00099945, 0.00199819, 0.00099945, 0.00199795,\n",
       "       0.00099897, 0.00199771, 0.00099945, 0.00199771, 0.00099897,\n",
       "       0.00199842, 0.00099969, 0.00199795, 0.00199771, 0.00099897,\n",
       "       0.00199819, 0.00099969, 0.00199723, 0.00099945, 0.00199723,\n",
       "       0.00099969, 0.00199771, 0.00099993, 0.00199747, 0.00199842,\n",
       "       0.00099945, 0.00199795, 0.00199819, 0.00099921, 0.00199819,\n",
       "       0.00099921, 0.00199771, 0.00099969, 0.00199747, 0.00199819,\n",
       "       0.00099945, 0.00199771, 0.00199819, 0.00099945, 0.00199795,\n",
       "       0.00099921, 0.00199819, 0.00199795, 0.00099945, 0.00199771,\n",
       "       0.00199819, 0.00099945, 0.00199747, 0.00199842, 0.00099945,\n",
       "       0.00199771, 0.00199795, 0.00099969, 0.00199747, 0.00199819,\n",
       "       0.00099969, 0.00199771, 0.00199819, 0.00099945, 0.00199771,\n",
       "       0.00199819, 0.00099945, 0.00199771, 0.00199819, 0.00199795,\n",
       "       0.00099945, 0.00199795, 0.00199819, 0.00099921, 0.00199795,\n",
       "       0.0019989 , 0.00199747, 0.00199795, 0.00099969, 0.00199747,\n",
       "       0.00199819, 0.00199819, 0.00099945, 0.00199795, 0.00199819,\n",
       "       0.00099945, 0.00199771, 0.00199723, 0.0019989 , 0.00199819,\n",
       "       0.00099945, 0.00199795, 0.00199842, 0.00199747, 0.00199842,\n",
       "       0.00099969, 0.00199795, 0.00199747, 0.00199819, 0.00199866,\n",
       "       0.00199699, 0.00100064, 0.00199747, 0.00199723, 0.00199866,\n",
       "       0.00199842, 0.00199771, 0.00099921, 0.00199747, 0.00199914,\n",
       "       0.00199795, 0.00199819, 0.00199819, 0.00199819, 0.00099945,\n",
       "       0.00199795, 0.00199771, 0.00199819, 0.00199842, 0.00199795,\n",
       "       0.00199819, 0.00199795, 0.00099969, 0.00199771, 0.00199795,\n",
       "       0.00199842, 0.00199795, 0.0019989 , 0.00200152, 0.0029912 ,\n",
       "       0.0039978 , 0.00399494, 0.00399542, 0.00200152, 0.00299454,\n",
       "       0.00200033, 0.00199795, 0.00199795, 0.00199819, 0.00199819,\n",
       "       0.00099945, 0.00199771, 0.00199842, 0.00199747, 0.00199842,\n",
       "       0.00199842, 0.00199795, 0.00199819, 0.00199842, 0.00199819,\n",
       "       0.00199795, 0.00199819, 0.00199819, 0.00199795, 0.0029974 ,\n",
       "       0.00199795, 0.00199795, 0.00099993, 0.00299692, 0.00199771,\n",
       "       0.00199819, 0.00199842, 0.00199795, 0.00199819, 0.00199795,\n",
       "       0.00199819, 0.00199771, 0.00199914, 0.00199747, 0.00199771,\n",
       "       0.00199819, 0.00199842, 0.00199795, 0.00199842, 0.00199842,\n",
       "       0.00199819, 0.00199819, 0.00199795, 0.00199819, 0.00299716,\n",
       "       0.00199795, 0.00199842, 0.00199866, 0.00199747, 0.00199819,\n",
       "       0.00199819, 0.00199842, 0.00199771, 0.0029974 , 0.00199795,\n",
       "       0.00199771, 0.00199866, 0.00200248, 0.00199413, 0.00199723,\n",
       "       0.00299788, 0.00199819, 0.00199819, 0.00199795, 0.00199842,\n",
       "       0.00199819, 0.00199795, 0.00199795, 0.00299764, 0.00199771,\n",
       "       0.00199819, 0.00199842, 0.00199795, 0.00299716, 0.00199819,\n",
       "       0.00199819, 0.00199819, 0.00199819, 0.00199795, 0.0029974 ,\n",
       "       0.00199795, 0.00199819, 0.00199795, 0.00199842, 0.00299716,\n",
       "       0.00199819, 0.00199795, 0.00199819, 0.00199819, 0.00299692,\n",
       "       0.00199819, 0.00199842, 0.00199842, 0.00299692, 0.00199819,\n",
       "       0.00199795, 0.00299644, 0.0019989 , 0.00199747, 0.00299597,\n",
       "       0.00199962, 0.0029974 , 0.0019989 , 0.00199747, 0.00299692,\n",
       "       0.00199842, 0.00299549, 0.00200009, 0.00199771, 0.00299692,\n",
       "       0.00199842, 0.0029974 , 0.00199795, 0.00299883, 0.00199723,\n",
       "       0.00199795, 0.00199842, 0.00299716, 0.00199771, 0.00199819,\n",
       "       0.0029974 , 0.00199795, 0.00299716, 0.00199795, 0.00199795,\n",
       "       0.0029974 , 0.00199819, 0.00199819, 0.00299716, 0.00199819,\n",
       "       0.00299716, 0.00199866, 0.00299406, 0.00199819, 0.00300002,\n",
       "       0.00199795, 0.00199604, 0.00299716, 0.00199795, 0.0029974 ,\n",
       "       0.00199795, 0.00199819, 0.00299716, 0.00199819, 0.00299788,\n",
       "       0.00199747, 0.00299716, 0.00199819, 0.0029974 , 0.00199819,\n",
       "       0.00299692, 0.00199842, 0.00299692, 0.00199842, 0.0030005 ,\n",
       "       0.00299621, 0.00199795, 0.00299764, 0.00199866, 0.00299835,\n",
       "       0.00199819, 0.00299716, 0.00199819, 0.00299358, 0.00199747,\n",
       "       0.00299764, 0.00199747, 0.00199819, 0.0029974 , 0.00299764,\n",
       "       0.00299692, 0.00199771, 0.00299764, 0.00199819, 0.00299978,\n",
       "       0.00299406, 0.00199842, 0.0029974 , 0.00199795, 0.00199819,\n",
       "       0.00299716, 0.00199842, 0.00299692, 0.00199819, 0.0029974 ,\n",
       "       0.00199842, 0.00299644, 0.00299811, 0.00199747, 0.0029974 ,\n",
       "       0.00299692, 0.00199866, 0.00299668, 0.00199842, 0.0029974 ,\n",
       "       0.00299692, 0.00399709, 0.00299668, 0.00299811, 0.00299716,\n",
       "       0.00299621, 0.00299692, 0.00199819, 0.00299716, 0.00299764,\n",
       "       0.00399661, 0.00700235, 0.00398993, 0.00499654, 0.0059917 ,\n",
       "       0.00300002, 0.00299716, 0.0019958 , 0.00399446, 0.00299692,\n",
       "       0.00199819, 0.00300455, 0.0019908 , 0.0029974 , 0.00299716,\n",
       "       0.00299716, 0.00199819, 0.00299811, 0.00299692, 0.00299644,\n",
       "       0.00299716, 0.00299788, 0.00199747, 0.00299788, 0.00299668,\n",
       "       0.00199842, 0.00299716, 0.00399661, 0.00199795, 0.00299692,\n",
       "       0.0029974 , 0.00299811, 0.00299597, 0.0029974 , 0.00299716,\n",
       "       0.00299931, 0.00299525, 0.00299764, 0.00299668, 0.0029974 ,\n",
       "       0.00299692, 0.00199842, 0.00299716, 0.00299692, 0.00299764,\n",
       "       0.00299692, 0.00299764, 0.00199771, 0.00299716, 0.0029974 ,\n",
       "       0.00299716, 0.00599575, 0.00699449, 0.01298618, 0.00899148,\n",
       "       0.00399613, 0.00299692, 0.00799394, 0.00399494, 0.00299716,\n",
       "       0.00199795, 0.00599527, 0.00299668, 0.00299716, 0.00199842,\n",
       "       0.00299692, 0.00399661, 0.00299692, 0.0029974 , 0.00299692,\n",
       "       0.00299764, 0.00299788, 0.00399494, 0.00299764, 0.00199795,\n",
       "       0.00399613, 0.00199819, 0.00399637, 0.00299764, 0.00299644,\n",
       "       0.00199842, 0.00299716, 0.00399733, 0.00299644, 0.00299716,\n",
       "       0.0029974 , 0.00299692, 0.00199842, 0.00399828, 0.00299716,\n",
       "       0.00299716, 0.00200009, 0.0029974 , 0.00299716, 0.00299287,\n",
       "       0.00299716, 0.0029974 , 0.00299716, 0.00199866, 0.00299668,\n",
       "       0.00300169, 0.00299692, 0.00299716, 0.0029974 , 0.00299716,\n",
       "       0.00299716, 0.0029974 , 0.00299692, 0.00299764, 0.00299692,\n",
       "       0.00199819, 0.00399184, 0.00199819, 0.00299716, 0.00299764,\n",
       "       0.00299692, 0.00299716, 0.00300169, 0.00299692, 0.0029974 ,\n",
       "       0.00299692, 0.0029974 , 0.0029974 , 0.00299716, 0.00399184,\n",
       "       0.0029974 , 0.00299716, 0.00299764, 0.00299954, 0.0029974 ,\n",
       "       0.00299692, 0.00299716, 0.0029974 , 0.0039978 , 0.00299716,\n",
       "       0.00299716, 0.00299716, 0.00199819, 0.00399637, 0.00299716,\n",
       "       0.0029974 , 0.00299716, 0.00299692, 0.0029974 , 0.00299716,\n",
       "       0.0029974 , 0.00299668, 0.00599146, 0.00499558, 0.00299716,\n",
       "       0.00399613, 0.00299764, 0.00399566, 0.0059967 , 0.00299859,\n",
       "       0.00299716, 0.00299716, 0.00399637, 0.00299716, 0.00299716,\n",
       "       0.00299358, 0.00299668, 0.00400019, 0.00299764, 0.00299692,\n",
       "       0.00299716, 0.00299668, 0.00299811, 0.00299668, 0.00299764,\n",
       "       0.00299716, 0.00399637, 0.00299692, 0.0029974 , 0.00299716,\n",
       "       0.0029974 , 0.00299716, 0.00299692, 0.00399637, 0.0029974 ,\n",
       "       0.00399494, 0.00299716, 0.00399637, 0.00299692, 0.00399637,\n",
       "       0.00299716, 0.00299716, 0.00399637, 0.0029974 , 0.00399613,\n",
       "       0.00299716, 0.00399613, 0.0029974 , 0.0029974 , 0.00399613,\n",
       "       0.0029974 , 0.00299692, 0.00399661, 0.00299644, 0.00299764,\n",
       "       0.00399613, 0.00299716, 0.0029974 , 0.00299716, 0.00399613,\n",
       "       0.00299764, 0.00299621, 0.00399661, 0.00299668, 0.00299811,\n",
       "       0.00399637, 0.00299692, 0.0029974 , 0.00399637, 0.00299716,\n",
       "       0.0029974 , 0.00399613, 0.0029974 , 0.0039959 , 0.00299716,\n",
       "       0.00399637, 0.0029974 , 0.00299716, 0.00399637, 0.00299716])"
      ]
     },
     "execution_count": 47,
     "metadata": {},
     "output_type": "execute_result"
    }
   ],
   "source": [
    "chart"
   ]
  },
  {
   "cell_type": "code",
   "execution_count": 304,
   "metadata": {},
   "outputs": [
    {
     "data": {
      "image/png": "[encoded data removed]",
      "text/plain": [
       "<Figure size 720x720 with 1 Axes>"
      ]
     },
     "metadata": {
      "needs_background": "light"
     },
     "output_type": "display_data"
    }
   ],
   "source": [
    "plt.figure(figsize=(10,10))\n",
    "plt.plot(N,chart,c='darkred',label=\"Time\")\n",
    "plt.xlabel('N', fontsize=15)\n",
    "plt.ylabel('Executin Time (s)', fontsize=15)\n",
    "plt.legend(fontsize=15)\n",
    "plt.xticks(fontsize=13)\n",
    "plt.yticks(fontsize=13)\n",
    "plt.show()\n"
   ]
  },
  {
   "cell_type": "code",
   "execution_count": 50,
   "metadata": {},
   "outputs": [
    {
     "data": {
      "text/plain": [
       "[<matplotlib.lines.Line2D at 0x24429e29b48>,\n",
       " <matplotlib.lines.Line2D at 0x24429e35648>,\n",
       " <matplotlib.lines.Line2D at 0x24429e35608>,\n",
       " <matplotlib.lines.Line2D at 0x24429e35848>,\n",
       " <matplotlib.lines.Line2D at 0x24429e35d08>,\n",
       " <matplotlib.lines.Line2D at 0x24429e35f48>,\n",
       " <matplotlib.lines.Line2D at 0x24429e35e88>,\n",
       " <matplotlib.lines.Line2D at 0x24429e3b108>,\n",
       " <matplotlib.lines.Line2D at 0x24429e35a48>,\n",
       " <matplotlib.lines.Line2D at 0x24429e35c48>,\n",
       " <matplotlib.lines.Line2D at 0x24429e0ff08>,\n",
       " <matplotlib.lines.Line2D at 0x24429e3b888>,\n",
       " <matplotlib.lines.Line2D at 0x24429e3ba88>,\n",
       " <matplotlib.lines.Line2D at 0x24429e3bcc8>,\n",
       " <matplotlib.lines.Line2D at 0x24429e3bf08>,\n",
       " <matplotlib.lines.Line2D at 0x24429e3c188>,\n",
       " <matplotlib.lines.Line2D at 0x24429e3c3c8>,\n",
       " <matplotlib.lines.Line2D at 0x24429e3c608>,\n",
       " <matplotlib.lines.Line2D at 0x24429e3c848>,\n",
       " <matplotlib.lines.Line2D at 0x24429e3ca88>,\n",
       " <matplotlib.lines.Line2D at 0x24429e3ccc8>,\n",
       " <matplotlib.lines.Line2D at 0x24429e3cf08>,\n",
       " <matplotlib.lines.Line2D at 0x24429e3f188>,\n",
       " <matplotlib.lines.Line2D at 0x24429e3f3c8>,\n",
       " <matplotlib.lines.Line2D at 0x24429e3f608>,\n",
       " <matplotlib.lines.Line2D at 0x24429e3f848>,\n",
       " <matplotlib.lines.Line2D at 0x24429e3fa88>,\n",
       " <matplotlib.lines.Line2D at 0x24429e3fcc8>,\n",
       " <matplotlib.lines.Line2D at 0x24429e3ff08>,\n",
       " <matplotlib.lines.Line2D at 0x24429ed5188>,\n",
       " <matplotlib.lines.Line2D at 0x24429ed53c8>,\n",
       " <matplotlib.lines.Line2D at 0x24429ed5608>,\n",
       " <matplotlib.lines.Line2D at 0x24429ed5848>,\n",
       " <matplotlib.lines.Line2D at 0x24429ed5a88>,\n",
       " <matplotlib.lines.Line2D at 0x24429ed5cc8>,\n",
       " <matplotlib.lines.Line2D at 0x24429ed5f08>,\n",
       " <matplotlib.lines.Line2D at 0x24429ed0188>,\n",
       " <matplotlib.lines.Line2D at 0x24429ed03c8>,\n",
       " <matplotlib.lines.Line2D at 0x24429ed0608>,\n",
       " <matplotlib.lines.Line2D at 0x24429ed0848>,\n",
       " <matplotlib.lines.Line2D at 0x24429ed0a88>,\n",
       " <matplotlib.lines.Line2D at 0x24429ed0cc8>,\n",
       " <matplotlib.lines.Line2D at 0x24429ed0f08>,\n",
       " <matplotlib.lines.Line2D at 0x24429ed3188>,\n",
       " <matplotlib.lines.Line2D at 0x24429ed33c8>,\n",
       " <matplotlib.lines.Line2D at 0x24429ed3608>,\n",
       " <matplotlib.lines.Line2D at 0x24429ed3888>,\n",
       " <matplotlib.lines.Line2D at 0x24429ed3b08>,\n",
       " <matplotlib.lines.Line2D at 0x24429ed3d88>,\n",
       " <matplotlib.lines.Line2D at 0x24429eda048>,\n",
       " <matplotlib.lines.Line2D at 0x24429eda2c8>,\n",
       " <matplotlib.lines.Line2D at 0x24429eda548>,\n",
       " <matplotlib.lines.Line2D at 0x24429eda7c8>,\n",
       " <matplotlib.lines.Line2D at 0x24429edaa48>,\n",
       " <matplotlib.lines.Line2D at 0x24429edacc8>,\n",
       " <matplotlib.lines.Line2D at 0x24429edaf48>,\n",
       " <matplotlib.lines.Line2D at 0x24429ede208>,\n",
       " <matplotlib.lines.Line2D at 0x24429ede488>,\n",
       " <matplotlib.lines.Line2D at 0x24429ede708>,\n",
       " <matplotlib.lines.Line2D at 0x24429ede988>,\n",
       " <matplotlib.lines.Line2D at 0x24429edec08>,\n",
       " <matplotlib.lines.Line2D at 0x24429edee88>,\n",
       " <matplotlib.lines.Line2D at 0x24429ee2148>,\n",
       " <matplotlib.lines.Line2D at 0x24429ee23c8>,\n",
       " <matplotlib.lines.Line2D at 0x24429ee2648>,\n",
       " <matplotlib.lines.Line2D at 0x24429ee28c8>,\n",
       " <matplotlib.lines.Line2D at 0x24429ee2b48>,\n",
       " <matplotlib.lines.Line2D at 0x24429ee2dc8>,\n",
       " <matplotlib.lines.Line2D at 0x24429ee4088>,\n",
       " <matplotlib.lines.Line2D at 0x24429ee4308>,\n",
       " <matplotlib.lines.Line2D at 0x24429ee4588>,\n",
       " <matplotlib.lines.Line2D at 0x24429ee4808>,\n",
       " <matplotlib.lines.Line2D at 0x24429ee4a88>,\n",
       " <matplotlib.lines.Line2D at 0x24429ee4d08>,\n",
       " <matplotlib.lines.Line2D at 0x24429ee4f88>,\n",
       " <matplotlib.lines.Line2D at 0x24429ee7248>,\n",
       " <matplotlib.lines.Line2D at 0x24429ee74c8>,\n",
       " <matplotlib.lines.Line2D at 0x24429ee7748>,\n",
       " <matplotlib.lines.Line2D at 0x24429ee79c8>,\n",
       " <matplotlib.lines.Line2D at 0x24429ee7c48>,\n",
       " <matplotlib.lines.Line2D at 0x24429ee7ec8>,\n",
       " <matplotlib.lines.Line2D at 0x24429eea188>,\n",
       " <matplotlib.lines.Line2D at 0x24429eea408>,\n",
       " <matplotlib.lines.Line2D at 0x24429eea688>,\n",
       " <matplotlib.lines.Line2D at 0x24429eea908>,\n",
       " <matplotlib.lines.Line2D at 0x24429eeab88>,\n",
       " <matplotlib.lines.Line2D at 0x24429eeae08>,\n",
       " <matplotlib.lines.Line2D at 0x24429eed0c8>,\n",
       " <matplotlib.lines.Line2D at 0x24429eed348>,\n",
       " <matplotlib.lines.Line2D at 0x24429eed5c8>,\n",
       " <matplotlib.lines.Line2D at 0x24429eed848>,\n",
       " <matplotlib.lines.Line2D at 0x24429eedac8>,\n",
       " <matplotlib.lines.Line2D at 0x24429eedd48>,\n",
       " <matplotlib.lines.Line2D at 0x24429eedfc8>,\n",
       " <matplotlib.lines.Line2D at 0x24429ef0288>,\n",
       " <matplotlib.lines.Line2D at 0x24429ef0508>,\n",
       " <matplotlib.lines.Line2D at 0x24429ef0788>,\n",
       " <matplotlib.lines.Line2D at 0x24429ef0a08>,\n",
       " <matplotlib.lines.Line2D at 0x24429ef0c88>,\n",
       " <matplotlib.lines.Line2D at 0x24429ef0f08>,\n",
       " <matplotlib.lines.Line2D at 0x24429ef21c8>,\n",
       " <matplotlib.lines.Line2D at 0x24429ef2448>,\n",
       " <matplotlib.lines.Line2D at 0x24429ef26c8>,\n",
       " <matplotlib.lines.Line2D at 0x24429ef2948>,\n",
       " <matplotlib.lines.Line2D at 0x24429ef2bc8>,\n",
       " <matplotlib.lines.Line2D at 0x24429ef2e48>,\n",
       " <matplotlib.lines.Line2D at 0x24429ef6108>,\n",
       " <matplotlib.lines.Line2D at 0x24429ef6388>,\n",
       " <matplotlib.lines.Line2D at 0x24429ef6608>,\n",
       " <matplotlib.lines.Line2D at 0x24429ef6888>,\n",
       " <matplotlib.lines.Line2D at 0x24429ef6b08>,\n",
       " <matplotlib.lines.Line2D at 0x24429ef6d88>,\n",
       " <matplotlib.lines.Line2D at 0x24429ef9048>,\n",
       " <matplotlib.lines.Line2D at 0x24429ef92c8>,\n",
       " <matplotlib.lines.Line2D at 0x24429ef9548>,\n",
       " <matplotlib.lines.Line2D at 0x24429ef97c8>,\n",
       " <matplotlib.lines.Line2D at 0x24429ef9a48>,\n",
       " <matplotlib.lines.Line2D at 0x24429ef9cc8>,\n",
       " <matplotlib.lines.Line2D at 0x24429ef9f48>,\n",
       " <matplotlib.lines.Line2D at 0x24429efc208>,\n",
       " <matplotlib.lines.Line2D at 0x24429efc488>,\n",
       " <matplotlib.lines.Line2D at 0x24429efc708>,\n",
       " <matplotlib.lines.Line2D at 0x24429efc988>,\n",
       " <matplotlib.lines.Line2D at 0x24429efcc08>,\n",
       " <matplotlib.lines.Line2D at 0x24429efce88>,\n",
       " <matplotlib.lines.Line2D at 0x24429eff148>,\n",
       " <matplotlib.lines.Line2D at 0x24429eff3c8>,\n",
       " <matplotlib.lines.Line2D at 0x24429eff648>,\n",
       " <matplotlib.lines.Line2D at 0x24429eff8c8>,\n",
       " <matplotlib.lines.Line2D at 0x24429effb48>,\n",
       " <matplotlib.lines.Line2D at 0x24429effdc8>,\n",
       " <matplotlib.lines.Line2D at 0x24429e81088>,\n",
       " <matplotlib.lines.Line2D at 0x24429e81308>,\n",
       " <matplotlib.lines.Line2D at 0x24429e81588>,\n",
       " <matplotlib.lines.Line2D at 0x24429e81808>,\n",
       " <matplotlib.lines.Line2D at 0x24429e81a88>,\n",
       " <matplotlib.lines.Line2D at 0x24429e81d08>,\n",
       " <matplotlib.lines.Line2D at 0x24429e81f88>,\n",
       " <matplotlib.lines.Line2D at 0x24429e83248>,\n",
       " <matplotlib.lines.Line2D at 0x24429e834c8>,\n",
       " <matplotlib.lines.Line2D at 0x24429e83748>,\n",
       " <matplotlib.lines.Line2D at 0x24429e839c8>,\n",
       " <matplotlib.lines.Line2D at 0x24429e83c48>,\n",
       " <matplotlib.lines.Line2D at 0x24429e83ec8>,\n",
       " <matplotlib.lines.Line2D at 0x24429e86188>,\n",
       " <matplotlib.lines.Line2D at 0x24429e86408>,\n",
       " <matplotlib.lines.Line2D at 0x24429e86688>,\n",
       " <matplotlib.lines.Line2D at 0x24429e86908>,\n",
       " <matplotlib.lines.Line2D at 0x24429e86b88>,\n",
       " <matplotlib.lines.Line2D at 0x24429e86e08>,\n",
       " <matplotlib.lines.Line2D at 0x24429e891c8>,\n",
       " <matplotlib.lines.Line2D at 0x24429e89448>,\n",
       " <matplotlib.lines.Line2D at 0x24429e896c8>,\n",
       " <matplotlib.lines.Line2D at 0x24429e89948>,\n",
       " <matplotlib.lines.Line2D at 0x24429e89bc8>,\n",
       " <matplotlib.lines.Line2D at 0x24429e89e48>,\n",
       " <matplotlib.lines.Line2D at 0x24429e89108>,\n",
       " <matplotlib.lines.Line2D at 0x24429e8e288>,\n",
       " <matplotlib.lines.Line2D at 0x24429e8e508>,\n",
       " <matplotlib.lines.Line2D at 0x24429e8e788>,\n",
       " <matplotlib.lines.Line2D at 0x24429e8ea08>,\n",
       " <matplotlib.lines.Line2D at 0x24429e8ec88>,\n",
       " <matplotlib.lines.Line2D at 0x24429e8ef08>,\n",
       " <matplotlib.lines.Line2D at 0x24429e911c8>,\n",
       " <matplotlib.lines.Line2D at 0x24429e91448>,\n",
       " <matplotlib.lines.Line2D at 0x24429e916c8>,\n",
       " <matplotlib.lines.Line2D at 0x24429e91948>,\n",
       " <matplotlib.lines.Line2D at 0x24429e91bc8>,\n",
       " <matplotlib.lines.Line2D at 0x24429e91e48>,\n",
       " <matplotlib.lines.Line2D at 0x24429e94108>,\n",
       " <matplotlib.lines.Line2D at 0x24429e94388>,\n",
       " <matplotlib.lines.Line2D at 0x24429e94608>,\n",
       " <matplotlib.lines.Line2D at 0x24429e94888>,\n",
       " <matplotlib.lines.Line2D at 0x24429e94b08>,\n",
       " <matplotlib.lines.Line2D at 0x24429e94d88>,\n",
       " <matplotlib.lines.Line2D at 0x24429e96048>,\n",
       " <matplotlib.lines.Line2D at 0x24429e962c8>,\n",
       " <matplotlib.lines.Line2D at 0x24429e96548>,\n",
       " <matplotlib.lines.Line2D at 0x24429e967c8>,\n",
       " <matplotlib.lines.Line2D at 0x24429e96a48>,\n",
       " <matplotlib.lines.Line2D at 0x24429e96cc8>,\n",
       " <matplotlib.lines.Line2D at 0x24429e96f48>,\n",
       " <matplotlib.lines.Line2D at 0x24429e99208>,\n",
       " <matplotlib.lines.Line2D at 0x24429e99488>,\n",
       " <matplotlib.lines.Line2D at 0x24429e99708>,\n",
       " <matplotlib.lines.Line2D at 0x24429e99988>,\n",
       " <matplotlib.lines.Line2D at 0x24429e99c08>,\n",
       " <matplotlib.lines.Line2D at 0x24429e99e88>,\n",
       " <matplotlib.lines.Line2D at 0x24429e9c148>,\n",
       " <matplotlib.lines.Line2D at 0x24429e9c3c8>,\n",
       " <matplotlib.lines.Line2D at 0x24429e9c648>,\n",
       " <matplotlib.lines.Line2D at 0x24429e9c8c8>,\n",
       " <matplotlib.lines.Line2D at 0x24429e9cb48>,\n",
       " <matplotlib.lines.Line2D at 0x24429e9cdc8>,\n",
       " <matplotlib.lines.Line2D at 0x24429e9f088>,\n",
       " <matplotlib.lines.Line2D at 0x24429e9f308>,\n",
       " <matplotlib.lines.Line2D at 0x24429e9f588>,\n",
       " <matplotlib.lines.Line2D at 0x24429e9f808>,\n",
       " <matplotlib.lines.Line2D at 0x24429e9fa88>,\n",
       " <matplotlib.lines.Line2D at 0x24429e9fd08>,\n",
       " <matplotlib.lines.Line2D at 0x24429e9ff88>,\n",
       " <matplotlib.lines.Line2D at 0x24429ea3248>,\n",
       " <matplotlib.lines.Line2D at 0x24429ea34c8>,\n",
       " <matplotlib.lines.Line2D at 0x24429ea3748>,\n",
       " <matplotlib.lines.Line2D at 0x24429ea39c8>,\n",
       " <matplotlib.lines.Line2D at 0x24429ea3c48>,\n",
       " <matplotlib.lines.Line2D at 0x24429ea3ec8>,\n",
       " <matplotlib.lines.Line2D at 0x24429ea5188>,\n",
       " <matplotlib.lines.Line2D at 0x24429ea5408>,\n",
       " <matplotlib.lines.Line2D at 0x24429ea5688>,\n",
       " <matplotlib.lines.Line2D at 0x24429ea5908>,\n",
       " <matplotlib.lines.Line2D at 0x24429ea5b88>,\n",
       " <matplotlib.lines.Line2D at 0x24429ea5e08>,\n",
       " <matplotlib.lines.Line2D at 0x24429ea80c8>,\n",
       " <matplotlib.lines.Line2D at 0x24429ea8348>,\n",
       " <matplotlib.lines.Line2D at 0x24429ea85c8>,\n",
       " <matplotlib.lines.Line2D at 0x24429ea8848>,\n",
       " <matplotlib.lines.Line2D at 0x24429ea8ac8>,\n",
       " <matplotlib.lines.Line2D at 0x24429ea8d48>,\n",
       " <matplotlib.lines.Line2D at 0x24429ea8fc8>,\n",
       " <matplotlib.lines.Line2D at 0x24429eaa288>,\n",
       " <matplotlib.lines.Line2D at 0x24429eaa508>,\n",
       " <matplotlib.lines.Line2D at 0x24429eaa788>,\n",
       " <matplotlib.lines.Line2D at 0x24429eaaa08>,\n",
       " <matplotlib.lines.Line2D at 0x24429eaac88>,\n",
       " <matplotlib.lines.Line2D at 0x24429eaaf08>,\n",
       " <matplotlib.lines.Line2D at 0x24429eae1c8>,\n",
       " <matplotlib.lines.Line2D at 0x24429eae448>,\n",
       " <matplotlib.lines.Line2D at 0x24429eae6c8>,\n",
       " <matplotlib.lines.Line2D at 0x24429eae948>,\n",
       " <matplotlib.lines.Line2D at 0x24429eaebc8>,\n",
       " <matplotlib.lines.Line2D at 0x24429eaee48>,\n",
       " <matplotlib.lines.Line2D at 0x24429eb2108>,\n",
       " <matplotlib.lines.Line2D at 0x24429eb2388>,\n",
       " <matplotlib.lines.Line2D at 0x24429eb2608>,\n",
       " <matplotlib.lines.Line2D at 0x24429eb2888>,\n",
       " <matplotlib.lines.Line2D at 0x24429eb2b08>,\n",
       " <matplotlib.lines.Line2D at 0x24429eb2d88>,\n",
       " <matplotlib.lines.Line2D at 0x24429eb7048>,\n",
       " <matplotlib.lines.Line2D at 0x24429eb72c8>,\n",
       " <matplotlib.lines.Line2D at 0x24429eb7548>,\n",
       " <matplotlib.lines.Line2D at 0x24429eb77c8>,\n",
       " <matplotlib.lines.Line2D at 0x24429eb7a48>,\n",
       " <matplotlib.lines.Line2D at 0x24429eb7cc8>,\n",
       " <matplotlib.lines.Line2D at 0x24429eb7f48>,\n",
       " <matplotlib.lines.Line2D at 0x24429ebc208>,\n",
       " <matplotlib.lines.Line2D at 0x24429ebc488>,\n",
       " <matplotlib.lines.Line2D at 0x24429ebc708>,\n",
       " <matplotlib.lines.Line2D at 0x24429ebc988>,\n",
       " <matplotlib.lines.Line2D at 0x24429ebcc08>,\n",
       " <matplotlib.lines.Line2D at 0x24429ebce88>,\n",
       " <matplotlib.lines.Line2D at 0x24429e42148>,\n",
       " <matplotlib.lines.Line2D at 0x24429e423c8>,\n",
       " <matplotlib.lines.Line2D at 0x24429e42648>,\n",
       " <matplotlib.lines.Line2D at 0x24429e428c8>,\n",
       " <matplotlib.lines.Line2D at 0x24429e42b48>,\n",
       " <matplotlib.lines.Line2D at 0x24429e42dc8>,\n",
       " <matplotlib.lines.Line2D at 0x24429e45088>,\n",
       " <matplotlib.lines.Line2D at 0x24429e45308>,\n",
       " <matplotlib.lines.Line2D at 0x24429e45588>,\n",
       " <matplotlib.lines.Line2D at 0x24429e45808>,\n",
       " <matplotlib.lines.Line2D at 0x24429e45a88>,\n",
       " <matplotlib.lines.Line2D at 0x24429e45d08>,\n",
       " <matplotlib.lines.Line2D at 0x24429e45f88>,\n",
       " <matplotlib.lines.Line2D at 0x24429e48248>,\n",
       " <matplotlib.lines.Line2D at 0x24429e484c8>,\n",
       " <matplotlib.lines.Line2D at 0x24429e48748>,\n",
       " <matplotlib.lines.Line2D at 0x24429e489c8>,\n",
       " <matplotlib.lines.Line2D at 0x24429e48c48>,\n",
       " <matplotlib.lines.Line2D at 0x24429e48ec8>,\n",
       " <matplotlib.lines.Line2D at 0x24429e4b188>,\n",
       " <matplotlib.lines.Line2D at 0x24429e4b408>,\n",
       " <matplotlib.lines.Line2D at 0x24429e4b688>,\n",
       " <matplotlib.lines.Line2D at 0x24429e4b908>,\n",
       " <matplotlib.lines.Line2D at 0x24429e4bb88>,\n",
       " <matplotlib.lines.Line2D at 0x24429e4be08>,\n",
       " <matplotlib.lines.Line2D at 0x24429e4d0c8>,\n",
       " <matplotlib.lines.Line2D at 0x24429e4d348>,\n",
       " <matplotlib.lines.Line2D at 0x24429e4d5c8>,\n",
       " <matplotlib.lines.Line2D at 0x24429e4d848>,\n",
       " <matplotlib.lines.Line2D at 0x24429e4dac8>,\n",
       " <matplotlib.lines.Line2D at 0x24429e4dd48>,\n",
       " <matplotlib.lines.Line2D at 0x24429e4dfc8>,\n",
       " <matplotlib.lines.Line2D at 0x24429e50288>,\n",
       " <matplotlib.lines.Line2D at 0x24429e50508>,\n",
       " <matplotlib.lines.Line2D at 0x24429e50788>,\n",
       " <matplotlib.lines.Line2D at 0x24429e50a08>,\n",
       " <matplotlib.lines.Line2D at 0x24429e50c88>,\n",
       " <matplotlib.lines.Line2D at 0x24429e50f08>,\n",
       " <matplotlib.lines.Line2D at 0x24429e541c8>,\n",
       " <matplotlib.lines.Line2D at 0x24429e54448>,\n",
       " <matplotlib.lines.Line2D at 0x24429e546c8>,\n",
       " <matplotlib.lines.Line2D at 0x24429e54948>,\n",
       " <matplotlib.lines.Line2D at 0x24429e54bc8>,\n",
       " <matplotlib.lines.Line2D at 0x24429e54e48>,\n",
       " <matplotlib.lines.Line2D at 0x24429e57108>,\n",
       " <matplotlib.lines.Line2D at 0x24429e57388>,\n",
       " <matplotlib.lines.Line2D at 0x24429e57608>,\n",
       " <matplotlib.lines.Line2D at 0x24429e57888>,\n",
       " <matplotlib.lines.Line2D at 0x24429e57b08>,\n",
       " <matplotlib.lines.Line2D at 0x24429e57d88>,\n",
       " <matplotlib.lines.Line2D at 0x24429e5a048>,\n",
       " <matplotlib.lines.Line2D at 0x24429e5a2c8>,\n",
       " <matplotlib.lines.Line2D at 0x24429e5a548>,\n",
       " <matplotlib.lines.Line2D at 0x24429e5a7c8>,\n",
       " <matplotlib.lines.Line2D at 0x24429e5aa48>,\n",
       " <matplotlib.lines.Line2D at 0x24429e5acc8>,\n",
       " <matplotlib.lines.Line2D at 0x24429e5af48>,\n",
       " <matplotlib.lines.Line2D at 0x24429e5d208>,\n",
       " <matplotlib.lines.Line2D at 0x24429e5d488>,\n",
       " <matplotlib.lines.Line2D at 0x24429e5d708>,\n",
       " <matplotlib.lines.Line2D at 0x24429e5d988>,\n",
       " <matplotlib.lines.Line2D at 0x24429e5dc08>,\n",
       " <matplotlib.lines.Line2D at 0x24429e5de88>,\n",
       " <matplotlib.lines.Line2D at 0x24429e60148>,\n",
       " <matplotlib.lines.Line2D at 0x24429e603c8>,\n",
       " <matplotlib.lines.Line2D at 0x24429e60648>,\n",
       " <matplotlib.lines.Line2D at 0x24429e608c8>,\n",
       " <matplotlib.lines.Line2D at 0x24429e60b48>,\n",
       " <matplotlib.lines.Line2D at 0x24429e60dc8>,\n",
       " <matplotlib.lines.Line2D at 0x24429e63088>,\n",
       " <matplotlib.lines.Line2D at 0x24429e63308>,\n",
       " <matplotlib.lines.Line2D at 0x24429e63588>,\n",
       " <matplotlib.lines.Line2D at 0x24429e63808>,\n",
       " <matplotlib.lines.Line2D at 0x24429e63a88>,\n",
       " <matplotlib.lines.Line2D at 0x24429e63d08>,\n",
       " <matplotlib.lines.Line2D at 0x24429e63f88>,\n",
       " <matplotlib.lines.Line2D at 0x24429e66248>,\n",
       " <matplotlib.lines.Line2D at 0x24429e664c8>,\n",
       " <matplotlib.lines.Line2D at 0x24429e66748>,\n",
       " <matplotlib.lines.Line2D at 0x24429e669c8>,\n",
       " <matplotlib.lines.Line2D at 0x24429e66c48>,\n",
       " <matplotlib.lines.Line2D at 0x24429e66ec8>,\n",
       " <matplotlib.lines.Line2D at 0x24429e69188>,\n",
       " <matplotlib.lines.Line2D at 0x24429e69408>,\n",
       " <matplotlib.lines.Line2D at 0x24429e69688>,\n",
       " <matplotlib.lines.Line2D at 0x24429e69908>,\n",
       " <matplotlib.lines.Line2D at 0x24429e69b88>,\n",
       " <matplotlib.lines.Line2D at 0x24429e69e08>,\n",
       " <matplotlib.lines.Line2D at 0x24429e6d0c8>,\n",
       " <matplotlib.lines.Line2D at 0x24429e6d348>,\n",
       " <matplotlib.lines.Line2D at 0x24429e6d5c8>,\n",
       " <matplotlib.lines.Line2D at 0x24429e6d848>,\n",
       " <matplotlib.lines.Line2D at 0x24429e6dac8>,\n",
       " <matplotlib.lines.Line2D at 0x24429e6dd48>,\n",
       " <matplotlib.lines.Line2D at 0x24429e6dfc8>,\n",
       " <matplotlib.lines.Line2D at 0x24429e70288>,\n",
       " <matplotlib.lines.Line2D at 0x24429e70508>,\n",
       " <matplotlib.lines.Line2D at 0x24429e70788>,\n",
       " <matplotlib.lines.Line2D at 0x24429e70a08>,\n",
       " <matplotlib.lines.Line2D at 0x24429e70c88>,\n",
       " <matplotlib.lines.Line2D at 0x24429e70f08>,\n",
       " <matplotlib.lines.Line2D at 0x24429e721c8>,\n",
       " <matplotlib.lines.Line2D at 0x24429e72448>,\n",
       " <matplotlib.lines.Line2D at 0x24429e726c8>,\n",
       " <matplotlib.lines.Line2D at 0x24429e72948>,\n",
       " <matplotlib.lines.Line2D at 0x24429e72bc8>,\n",
       " <matplotlib.lines.Line2D at 0x24429e72e48>,\n",
       " <matplotlib.lines.Line2D at 0x24429e75108>,\n",
       " <matplotlib.lines.Line2D at 0x24429e75388>,\n",
       " <matplotlib.lines.Line2D at 0x24429e75608>,\n",
       " <matplotlib.lines.Line2D at 0x24429e75888>,\n",
       " <matplotlib.lines.Line2D at 0x24429e75b08>,\n",
       " <matplotlib.lines.Line2D at 0x24429e75d88>,\n",
       " <matplotlib.lines.Line2D at 0x24429e78048>,\n",
       " <matplotlib.lines.Line2D at 0x24429e782c8>,\n",
       " <matplotlib.lines.Line2D at 0x24429e78548>,\n",
       " <matplotlib.lines.Line2D at 0x24429e787c8>,\n",
       " <matplotlib.lines.Line2D at 0x24429e78a48>,\n",
       " <matplotlib.lines.Line2D at 0x24429e78cc8>,\n",
       " <matplotlib.lines.Line2D at 0x24429e78f48>,\n",
       " <matplotlib.lines.Line2D at 0x24429e7b208>,\n",
       " <matplotlib.lines.Line2D at 0x24429e7b488>,\n",
       " <matplotlib.lines.Line2D at 0x24429e7b708>,\n",
       " <matplotlib.lines.Line2D at 0x24429e7b988>,\n",
       " <matplotlib.lines.Line2D at 0x24429e7bc08>,\n",
       " <matplotlib.lines.Line2D at 0x24429e7be88>,\n",
       " <matplotlib.lines.Line2D at 0x24429e7e148>,\n",
       " <matplotlib.lines.Line2D at 0x24429e7e3c8>,\n",
       " <matplotlib.lines.Line2D at 0x24429e7e648>,\n",
       " <matplotlib.lines.Line2D at 0x24429e7e8c8>,\n",
       " <matplotlib.lines.Line2D at 0x24429e7eb48>,\n",
       " <matplotlib.lines.Line2D at 0x24429e7edc8>,\n",
       " <matplotlib.lines.Line2D at 0x24429f00088>,\n",
       " <matplotlib.lines.Line2D at 0x24429f00308>,\n",
       " <matplotlib.lines.Line2D at 0x24429f00588>,\n",
       " <matplotlib.lines.Line2D at 0x24429f00808>,\n",
       " <matplotlib.lines.Line2D at 0x24429f00a88>,\n",
       " <matplotlib.lines.Line2D at 0x24429f00d08>,\n",
       " <matplotlib.lines.Line2D at 0x24429f00f88>,\n",
       " <matplotlib.lines.Line2D at 0x24429f04248>,\n",
       " <matplotlib.lines.Line2D at 0x24429f044c8>,\n",
       " <matplotlib.lines.Line2D at 0x24429f04748>,\n",
       " <matplotlib.lines.Line2D at 0x24429f049c8>,\n",
       " <matplotlib.lines.Line2D at 0x24429f04c48>,\n",
       " <matplotlib.lines.Line2D at 0x24429f04ec8>,\n",
       " <matplotlib.lines.Line2D at 0x24429f07188>,\n",
       " <matplotlib.lines.Line2D at 0x24429f07408>,\n",
       " <matplotlib.lines.Line2D at 0x24429f07688>,\n",
       " <matplotlib.lines.Line2D at 0x24429f07908>,\n",
       " <matplotlib.lines.Line2D at 0x24429f07b88>,\n",
       " <matplotlib.lines.Line2D at 0x24429f07e08>,\n",
       " <matplotlib.lines.Line2D at 0x24429f0b0c8>,\n",
       " <matplotlib.lines.Line2D at 0x24429f0b348>,\n",
       " <matplotlib.lines.Line2D at 0x24429f0b5c8>,\n",
       " <matplotlib.lines.Line2D at 0x24429f0b848>,\n",
       " <matplotlib.lines.Line2D at 0x24429f0bac8>,\n",
       " <matplotlib.lines.Line2D at 0x24429f0bd48>,\n",
       " <matplotlib.lines.Line2D at 0x24429f0bfc8>,\n",
       " <matplotlib.lines.Line2D at 0x24429f0e288>,\n",
       " <matplotlib.lines.Line2D at 0x24429f0e508>,\n",
       " <matplotlib.lines.Line2D at 0x24429f0e788>,\n",
       " <matplotlib.lines.Line2D at 0x24429f0ea08>,\n",
       " <matplotlib.lines.Line2D at 0x24429f0ec88>,\n",
       " <matplotlib.lines.Line2D at 0x24429f0ef08>,\n",
       " <matplotlib.lines.Line2D at 0x24429f111c8>,\n",
       " <matplotlib.lines.Line2D at 0x24429f11448>,\n",
       " <matplotlib.lines.Line2D at 0x24429f116c8>,\n",
       " <matplotlib.lines.Line2D at 0x24429f11948>,\n",
       " <matplotlib.lines.Line2D at 0x24429f11bc8>,\n",
       " <matplotlib.lines.Line2D at 0x24429f11e48>,\n",
       " <matplotlib.lines.Line2D at 0x24429f13108>,\n",
       " <matplotlib.lines.Line2D at 0x24429f13388>,\n",
       " <matplotlib.lines.Line2D at 0x24429f13608>,\n",
       " <matplotlib.lines.Line2D at 0x24429f13888>,\n",
       " <matplotlib.lines.Line2D at 0x24429f13b08>,\n",
       " <matplotlib.lines.Line2D at 0x24429f13d88>,\n",
       " <matplotlib.lines.Line2D at 0x24429f16048>,\n",
       " <matplotlib.lines.Line2D at 0x24429f162c8>,\n",
       " <matplotlib.lines.Line2D at 0x24429f16548>,\n",
       " <matplotlib.lines.Line2D at 0x24429f167c8>,\n",
       " <matplotlib.lines.Line2D at 0x24429f16a48>,\n",
       " <matplotlib.lines.Line2D at 0x24429f16cc8>,\n",
       " <matplotlib.lines.Line2D at 0x24429f16f48>,\n",
       " <matplotlib.lines.Line2D at 0x24429f1a208>,\n",
       " <matplotlib.lines.Line2D at 0x24429f1a488>,\n",
       " <matplotlib.lines.Line2D at 0x24429f1a708>,\n",
       " <matplotlib.lines.Line2D at 0x24429f1a988>,\n",
       " <matplotlib.lines.Line2D at 0x24429f1ac08>,\n",
       " <matplotlib.lines.Line2D at 0x24429f1ae88>,\n",
       " <matplotlib.lines.Line2D at 0x24429f1d148>,\n",
       " <matplotlib.lines.Line2D at 0x24429f1d3c8>,\n",
       " <matplotlib.lines.Line2D at 0x24429f1d648>,\n",
       " <matplotlib.lines.Line2D at 0x24429f1d8c8>,\n",
       " <matplotlib.lines.Line2D at 0x24429f1db48>,\n",
       " <matplotlib.lines.Line2D at 0x24429f1ddc8>,\n",
       " <matplotlib.lines.Line2D at 0x24429f20088>,\n",
       " <matplotlib.lines.Line2D at 0x24429f20308>,\n",
       " <matplotlib.lines.Line2D at 0x24429f20588>,\n",
       " <matplotlib.lines.Line2D at 0x24429f20808>,\n",
       " <matplotlib.lines.Line2D at 0x24429f20a88>,\n",
       " <matplotlib.lines.Line2D at 0x24429f20d08>,\n",
       " <matplotlib.lines.Line2D at 0x24429f20f88>,\n",
       " <matplotlib.lines.Line2D at 0x24429f23248>,\n",
       " <matplotlib.lines.Line2D at 0x24429f234c8>,\n",
       " <matplotlib.lines.Line2D at 0x24429f23748>,\n",
       " <matplotlib.lines.Line2D at 0x24429f239c8>,\n",
       " <matplotlib.lines.Line2D at 0x24429f23c48>,\n",
       " <matplotlib.lines.Line2D at 0x24429f23ec8>,\n",
       " <matplotlib.lines.Line2D at 0x24429f25188>,\n",
       " <matplotlib.lines.Line2D at 0x24429f25408>,\n",
       " <matplotlib.lines.Line2D at 0x24429f25688>,\n",
       " <matplotlib.lines.Line2D at 0x24429f25908>,\n",
       " <matplotlib.lines.Line2D at 0x24429f25b88>,\n",
       " <matplotlib.lines.Line2D at 0x24429f25e08>,\n",
       " <matplotlib.lines.Line2D at 0x24429f280c8>,\n",
       " <matplotlib.lines.Line2D at 0x24429f28348>,\n",
       " <matplotlib.lines.Line2D at 0x24429f285c8>,\n",
       " <matplotlib.lines.Line2D at 0x24429f28848>,\n",
       " <matplotlib.lines.Line2D at 0x24429f28ac8>,\n",
       " <matplotlib.lines.Line2D at 0x24429f28d48>,\n",
       " <matplotlib.lines.Line2D at 0x24429f28fc8>,\n",
       " <matplotlib.lines.Line2D at 0x24429f2b288>,\n",
       " <matplotlib.lines.Line2D at 0x24429f2b508>,\n",
       " <matplotlib.lines.Line2D at 0x24429f2b788>,\n",
       " <matplotlib.lines.Line2D at 0x24429f2ba08>,\n",
       " <matplotlib.lines.Line2D at 0x24429f2bc88>,\n",
       " <matplotlib.lines.Line2D at 0x24429f2bf08>,\n",
       " <matplotlib.lines.Line2D at 0x24429f2f1c8>,\n",
       " <matplotlib.lines.Line2D at 0x24429f2f448>,\n",
       " <matplotlib.lines.Line2D at 0x24429f2f6c8>,\n",
       " <matplotlib.lines.Line2D at 0x24429f2f948>,\n",
       " <matplotlib.lines.Line2D at 0x24429f2fbc8>,\n",
       " <matplotlib.lines.Line2D at 0x24429f2fe48>,\n",
       " <matplotlib.lines.Line2D at 0x24429f33108>,\n",
       " <matplotlib.lines.Line2D at 0x24429f33388>,\n",
       " <matplotlib.lines.Line2D at 0x24429f33608>,\n",
       " <matplotlib.lines.Line2D at 0x24429f33888>,\n",
       " <matplotlib.lines.Line2D at 0x24429f33b08>,\n",
       " <matplotlib.lines.Line2D at 0x24429f33d88>,\n",
       " <matplotlib.lines.Line2D at 0x24429f35048>,\n",
       " <matplotlib.lines.Line2D at 0x24429f352c8>,\n",
       " <matplotlib.lines.Line2D at 0x24429f35548>,\n",
       " <matplotlib.lines.Line2D at 0x24429f357c8>,\n",
       " <matplotlib.lines.Line2D at 0x24429f35a48>,\n",
       " <matplotlib.lines.Line2D at 0x24429f35cc8>,\n",
       " <matplotlib.lines.Line2D at 0x24429f35f48>,\n",
       " <matplotlib.lines.Line2D at 0x24429f38208>,\n",
       " <matplotlib.lines.Line2D at 0x24429f38488>,\n",
       " <matplotlib.lines.Line2D at 0x24429f38708>,\n",
       " <matplotlib.lines.Line2D at 0x24429f38988>,\n",
       " <matplotlib.lines.Line2D at 0x24429f38c08>,\n",
       " <matplotlib.lines.Line2D at 0x24429f38e88>,\n",
       " <matplotlib.lines.Line2D at 0x24429f3b148>,\n",
       " <matplotlib.lines.Line2D at 0x24429f3b3c8>,\n",
       " <matplotlib.lines.Line2D at 0x24429f3b648>,\n",
       " <matplotlib.lines.Line2D at 0x24429f3b8c8>,\n",
       " <matplotlib.lines.Line2D at 0x24429f3bb48>,\n",
       " <matplotlib.lines.Line2D at 0x24429f3bdc8>,\n",
       " <matplotlib.lines.Line2D at 0x24429f3e088>,\n",
       " <matplotlib.lines.Line2D at 0x24429f3e308>,\n",
       " <matplotlib.lines.Line2D at 0x24429f3e588>,\n",
       " <matplotlib.lines.Line2D at 0x24429f3e808>,\n",
       " <matplotlib.lines.Line2D at 0x24429f3ea88>,\n",
       " <matplotlib.lines.Line2D at 0x24429f3ed08>,\n",
       " <matplotlib.lines.Line2D at 0x24429f3ef88>,\n",
       " <matplotlib.lines.Line2D at 0x24429f41248>,\n",
       " <matplotlib.lines.Line2D at 0x24429f414c8>,\n",
       " <matplotlib.lines.Line2D at 0x24429f41748>,\n",
       " <matplotlib.lines.Line2D at 0x24429f419c8>,\n",
       " <matplotlib.lines.Line2D at 0x24429f41c48>,\n",
       " <matplotlib.lines.Line2D at 0x24429f41ec8>,\n",
       " <matplotlib.lines.Line2D at 0x24429f44188>,\n",
       " <matplotlib.lines.Line2D at 0x24429f44408>,\n",
       " <matplotlib.lines.Line2D at 0x24429f44688>,\n",
       " <matplotlib.lines.Line2D at 0x24429f44908>,\n",
       " <matplotlib.lines.Line2D at 0x24429f44b88>,\n",
       " <matplotlib.lines.Line2D at 0x24429f44e08>,\n",
       " <matplotlib.lines.Line2D at 0x24429f470c8>,\n",
       " <matplotlib.lines.Line2D at 0x24429f47348>,\n",
       " <matplotlib.lines.Line2D at 0x24429f475c8>,\n",
       " <matplotlib.lines.Line2D at 0x24429f47848>,\n",
       " <matplotlib.lines.Line2D at 0x24429f47ac8>,\n",
       " <matplotlib.lines.Line2D at 0x24429f47d48>,\n",
       " <matplotlib.lines.Line2D at 0x24429f47fc8>,\n",
       " <matplotlib.lines.Line2D at 0x24429f4a288>,\n",
       " <matplotlib.lines.Line2D at 0x24429f4a508>,\n",
       " <matplotlib.lines.Line2D at 0x24429f4a788>,\n",
       " <matplotlib.lines.Line2D at 0x24429f4aa08>,\n",
       " <matplotlib.lines.Line2D at 0x24429f4ac88>,\n",
       " <matplotlib.lines.Line2D at 0x24429f4af08>,\n",
       " <matplotlib.lines.Line2D at 0x24429f4d1c8>,\n",
       " <matplotlib.lines.Line2D at 0x24429f4d448>,\n",
       " <matplotlib.lines.Line2D at 0x24429f4d6c8>,\n",
       " <matplotlib.lines.Line2D at 0x24429f4d948>,\n",
       " <matplotlib.lines.Line2D at 0x24429f4dbc8>,\n",
       " <matplotlib.lines.Line2D at 0x24429f4de48>,\n",
       " <matplotlib.lines.Line2D at 0x24429f50108>,\n",
       " <matplotlib.lines.Line2D at 0x24429f50388>,\n",
       " <matplotlib.lines.Line2D at 0x24429f50608>,\n",
       " <matplotlib.lines.Line2D at 0x24429f50888>,\n",
       " <matplotlib.lines.Line2D at 0x24429f50b08>,\n",
       " <matplotlib.lines.Line2D at 0x24429f50d88>,\n",
       " <matplotlib.lines.Line2D at 0x24429f53048>,\n",
       " <matplotlib.lines.Line2D at 0x24429f532c8>,\n",
       " <matplotlib.lines.Line2D at 0x24429f53548>,\n",
       " <matplotlib.lines.Line2D at 0x24429f537c8>,\n",
       " <matplotlib.lines.Line2D at 0x24429f53a48>,\n",
       " <matplotlib.lines.Line2D at 0x24429f53cc8>,\n",
       " <matplotlib.lines.Line2D at 0x24429f53f48>,\n",
       " <matplotlib.lines.Line2D at 0x24429f55208>,\n",
       " <matplotlib.lines.Line2D at 0x24429f55488>,\n",
       " <matplotlib.lines.Line2D at 0x24429f55708>,\n",
       " <matplotlib.lines.Line2D at 0x24429f55988>,\n",
       " <matplotlib.lines.Line2D at 0x24429f55c08>,\n",
       " <matplotlib.lines.Line2D at 0x24429f55e88>,\n",
       " <matplotlib.lines.Line2D at 0x24429f59148>,\n",
       " <matplotlib.lines.Line2D at 0x24429f593c8>,\n",
       " <matplotlib.lines.Line2D at 0x24429f59648>,\n",
       " <matplotlib.lines.Line2D at 0x24429f598c8>,\n",
       " <matplotlib.lines.Line2D at 0x24429f59b48>,\n",
       " <matplotlib.lines.Line2D at 0x24429f59dc8>,\n",
       " <matplotlib.lines.Line2D at 0x24429f5c088>,\n",
       " <matplotlib.lines.Line2D at 0x24429f5c308>,\n",
       " <matplotlib.lines.Line2D at 0x24429f5c588>,\n",
       " <matplotlib.lines.Line2D at 0x24429f5c808>,\n",
       " <matplotlib.lines.Line2D at 0x24429f5ca88>,\n",
       " <matplotlib.lines.Line2D at 0x24429f5cd08>,\n",
       " <matplotlib.lines.Line2D at 0x24429f5cf88>,\n",
       " <matplotlib.lines.Line2D at 0x24429f60248>,\n",
       " <matplotlib.lines.Line2D at 0x24429f604c8>,\n",
       " <matplotlib.lines.Line2D at 0x24429f60748>,\n",
       " <matplotlib.lines.Line2D at 0x24429f609c8>,\n",
       " <matplotlib.lines.Line2D at 0x24429f60c48>,\n",
       " <matplotlib.lines.Line2D at 0x24429f60ec8>,\n",
       " <matplotlib.lines.Line2D at 0x24429f63188>,\n",
       " <matplotlib.lines.Line2D at 0x24429f63408>,\n",
       " <matplotlib.lines.Line2D at 0x24429f63688>,\n",
       " <matplotlib.lines.Line2D at 0x24429f63908>,\n",
       " <matplotlib.lines.Line2D at 0x24429f63b88>,\n",
       " <matplotlib.lines.Line2D at 0x24429f63e08>,\n",
       " <matplotlib.lines.Line2D at 0x24429f660c8>,\n",
       " <matplotlib.lines.Line2D at 0x24429f66348>,\n",
       " <matplotlib.lines.Line2D at 0x24429f665c8>,\n",
       " <matplotlib.lines.Line2D at 0x24429f66848>,\n",
       " <matplotlib.lines.Line2D at 0x24429f66ac8>,\n",
       " <matplotlib.lines.Line2D at 0x24429f66d48>,\n",
       " <matplotlib.lines.Line2D at 0x24429f66fc8>,\n",
       " <matplotlib.lines.Line2D at 0x24429f68288>,\n",
       " <matplotlib.lines.Line2D at 0x24429f68508>,\n",
       " <matplotlib.lines.Line2D at 0x24429f68788>,\n",
       " <matplotlib.lines.Line2D at 0x24429f68a08>,\n",
       " <matplotlib.lines.Line2D at 0x24429f68c88>,\n",
       " <matplotlib.lines.Line2D at 0x24429f68f08>,\n",
       " <matplotlib.lines.Line2D at 0x24429f6b1c8>,\n",
       " <matplotlib.lines.Line2D at 0x24429f6b448>,\n",
       " <matplotlib.lines.Line2D at 0x24429f6b6c8>,\n",
       " <matplotlib.lines.Line2D at 0x24429f6b948>,\n",
       " <matplotlib.lines.Line2D at 0x24429f6bbc8>,\n",
       " <matplotlib.lines.Line2D at 0x24429f6be48>,\n",
       " <matplotlib.lines.Line2D at 0x24429f6e108>,\n",
       " <matplotlib.lines.Line2D at 0x24429f6e388>,\n",
       " <matplotlib.lines.Line2D at 0x24429f6e608>,\n",
       " <matplotlib.lines.Line2D at 0x24429f6e888>,\n",
       " <matplotlib.lines.Line2D at 0x24429f6eb08>,\n",
       " <matplotlib.lines.Line2D at 0x24429f6ed88>,\n",
       " <matplotlib.lines.Line2D at 0x24429f71048>,\n",
       " <matplotlib.lines.Line2D at 0x24429f712c8>,\n",
       " <matplotlib.lines.Line2D at 0x24429f71548>,\n",
       " <matplotlib.lines.Line2D at 0x24429f717c8>,\n",
       " <matplotlib.lines.Line2D at 0x24429f71a48>,\n",
       " <matplotlib.lines.Line2D at 0x24429f71cc8>,\n",
       " <matplotlib.lines.Line2D at 0x24429f71f48>,\n",
       " <matplotlib.lines.Line2D at 0x24429f75208>,\n",
       " <matplotlib.lines.Line2D at 0x24429f75488>,\n",
       " <matplotlib.lines.Line2D at 0x24429f75708>,\n",
       " <matplotlib.lines.Line2D at 0x24429f75988>,\n",
       " <matplotlib.lines.Line2D at 0x24429f75c08>,\n",
       " <matplotlib.lines.Line2D at 0x24429f75e88>,\n",
       " <matplotlib.lines.Line2D at 0x24429f78148>,\n",
       " <matplotlib.lines.Line2D at 0x24429f783c8>,\n",
       " <matplotlib.lines.Line2D at 0x24429f78648>,\n",
       " <matplotlib.lines.Line2D at 0x24429f788c8>,\n",
       " <matplotlib.lines.Line2D at 0x24429f78b48>,\n",
       " <matplotlib.lines.Line2D at 0x24429f78dc8>,\n",
       " <matplotlib.lines.Line2D at 0x24429f7a088>,\n",
       " <matplotlib.lines.Line2D at 0x24429f7a308>,\n",
       " <matplotlib.lines.Line2D at 0x24429f7a588>,\n",
       " <matplotlib.lines.Line2D at 0x24429f7a808>,\n",
       " <matplotlib.lines.Line2D at 0x24429f7aa88>,\n",
       " <matplotlib.lines.Line2D at 0x24429f7ad08>,\n",
       " <matplotlib.lines.Line2D at 0x24429f7af88>,\n",
       " <matplotlib.lines.Line2D at 0x24429f7d248>,\n",
       " <matplotlib.lines.Line2D at 0x24429f7d4c8>,\n",
       " <matplotlib.lines.Line2D at 0x24429f7d748>,\n",
       " <matplotlib.lines.Line2D at 0x24429f7d9c8>,\n",
       " <matplotlib.lines.Line2D at 0x24429f7dc48>,\n",
       " <matplotlib.lines.Line2D at 0x24429f7dec8>,\n",
       " <matplotlib.lines.Line2D at 0x24429f80188>,\n",
       " <matplotlib.lines.Line2D at 0x24429f80408>,\n",
       " <matplotlib.lines.Line2D at 0x24429f80688>,\n",
       " <matplotlib.lines.Line2D at 0x24429f80908>,\n",
       " <matplotlib.lines.Line2D at 0x24429f80b88>,\n",
       " <matplotlib.lines.Line2D at 0x24429f80e08>,\n",
       " <matplotlib.lines.Line2D at 0x24429f840c8>,\n",
       " <matplotlib.lines.Line2D at 0x24429f84348>,\n",
       " <matplotlib.lines.Line2D at 0x24429f845c8>,\n",
       " <matplotlib.lines.Line2D at 0x24429f84848>,\n",
       " <matplotlib.lines.Line2D at 0x24429f84ac8>,\n",
       " <matplotlib.lines.Line2D at 0x24429f84d48>,\n",
       " <matplotlib.lines.Line2D at 0x24429f84fc8>,\n",
       " <matplotlib.lines.Line2D at 0x24429f87288>,\n",
       " <matplotlib.lines.Line2D at 0x24429f87508>,\n",
       " <matplotlib.lines.Line2D at 0x24429f87788>,\n",
       " <matplotlib.lines.Line2D at 0x24429f87a08>,\n",
       " <matplotlib.lines.Line2D at 0x24429f87c88>,\n",
       " <matplotlib.lines.Line2D at 0x24429f87f08>,\n",
       " <matplotlib.lines.Line2D at 0x24429f8a1c8>,\n",
       " <matplotlib.lines.Line2D at 0x24429f8a448>,\n",
       " <matplotlib.lines.Line2D at 0x24429f8a6c8>,\n",
       " <matplotlib.lines.Line2D at 0x24429f8a948>,\n",
       " <matplotlib.lines.Line2D at 0x24429f8abc8>,\n",
       " <matplotlib.lines.Line2D at 0x24429f8ae48>,\n",
       " <matplotlib.lines.Line2D at 0x24429f8d108>,\n",
       " <matplotlib.lines.Line2D at 0x24429f8d388>,\n",
       " <matplotlib.lines.Line2D at 0x24429f8d608>,\n",
       " <matplotlib.lines.Line2D at 0x24429f8d888>,\n",
       " <matplotlib.lines.Line2D at 0x24429f8db08>,\n",
       " <matplotlib.lines.Line2D at 0x24429f8dd88>,\n",
       " <matplotlib.lines.Line2D at 0x24429f90048>,\n",
       " <matplotlib.lines.Line2D at 0x24429f902c8>,\n",
       " <matplotlib.lines.Line2D at 0x24429f90548>,\n",
       " <matplotlib.lines.Line2D at 0x24429f907c8>,\n",
       " <matplotlib.lines.Line2D at 0x24429f90a48>,\n",
       " <matplotlib.lines.Line2D at 0x24429f90cc8>,\n",
       " <matplotlib.lines.Line2D at 0x24429f90f48>,\n",
       " <matplotlib.lines.Line2D at 0x24429f93208>,\n",
       " <matplotlib.lines.Line2D at 0x24429f93488>,\n",
       " <matplotlib.lines.Line2D at 0x24429f93708>,\n",
       " <matplotlib.lines.Line2D at 0x24429f93988>,\n",
       " <matplotlib.lines.Line2D at 0x24429f93c08>,\n",
       " <matplotlib.lines.Line2D at 0x24429f93e88>,\n",
       " <matplotlib.lines.Line2D at 0x24429f96148>,\n",
       " <matplotlib.lines.Line2D at 0x24429f963c8>,\n",
       " <matplotlib.lines.Line2D at 0x24429f96648>,\n",
       " <matplotlib.lines.Line2D at 0x24429f968c8>,\n",
       " <matplotlib.lines.Line2D at 0x24429f96b48>,\n",
       " <matplotlib.lines.Line2D at 0x24429f96dc8>,\n",
       " <matplotlib.lines.Line2D at 0x24429f99088>,\n",
       " <matplotlib.lines.Line2D at 0x24429f99308>,\n",
       " <matplotlib.lines.Line2D at 0x24429f99588>,\n",
       " <matplotlib.lines.Line2D at 0x24429f99808>,\n",
       " <matplotlib.lines.Line2D at 0x24429f99a88>,\n",
       " <matplotlib.lines.Line2D at 0x24429f99d08>,\n",
       " <matplotlib.lines.Line2D at 0x24429f99f88>,\n",
       " <matplotlib.lines.Line2D at 0x24429f9b248>,\n",
       " <matplotlib.lines.Line2D at 0x24429f9b4c8>,\n",
       " <matplotlib.lines.Line2D at 0x24429f9b748>,\n",
       " <matplotlib.lines.Line2D at 0x24429f9b9c8>,\n",
       " <matplotlib.lines.Line2D at 0x24429f9bc48>,\n",
       " <matplotlib.lines.Line2D at 0x24429f9bec8>,\n",
       " <matplotlib.lines.Line2D at 0x24429f9e188>,\n",
       " <matplotlib.lines.Line2D at 0x24429f9e408>,\n",
       " <matplotlib.lines.Line2D at 0x24429f9e688>,\n",
       " <matplotlib.lines.Line2D at 0x24429f9e908>,\n",
       " <matplotlib.lines.Line2D at 0x24429f9eb88>,\n",
       " <matplotlib.lines.Line2D at 0x24429f9ee08>,\n",
       " <matplotlib.lines.Line2D at 0x24429fa20c8>,\n",
       " <matplotlib.lines.Line2D at 0x24429fa2348>,\n",
       " <matplotlib.lines.Line2D at 0x24429fa25c8>,\n",
       " <matplotlib.lines.Line2D at 0x24429fa2848>,\n",
       " <matplotlib.lines.Line2D at 0x24429fa2ac8>,\n",
       " <matplotlib.lines.Line2D at 0x24429fa2d48>,\n",
       " <matplotlib.lines.Line2D at 0x24429fa2fc8>,\n",
       " <matplotlib.lines.Line2D at 0x24429fa5288>,\n",
       " <matplotlib.lines.Line2D at 0x24429fa5508>,\n",
       " <matplotlib.lines.Line2D at 0x24429fa5788>,\n",
       " <matplotlib.lines.Line2D at 0x24429fa5a08>,\n",
       " <matplotlib.lines.Line2D at 0x24429fa5c88>,\n",
       " <matplotlib.lines.Line2D at 0x24429fa5f08>,\n",
       " <matplotlib.lines.Line2D at 0x24429fa81c8>,\n",
       " <matplotlib.lines.Line2D at 0x24429fa8448>,\n",
       " <matplotlib.lines.Line2D at 0x24429fa86c8>,\n",
       " <matplotlib.lines.Line2D at 0x24429fa8948>,\n",
       " <matplotlib.lines.Line2D at 0x24429fa8bc8>,\n",
       " <matplotlib.lines.Line2D at 0x24429fa8e48>,\n",
       " <matplotlib.lines.Line2D at 0x24429fab108>,\n",
       " <matplotlib.lines.Line2D at 0x24429fab388>,\n",
       " <matplotlib.lines.Line2D at 0x24429fab608>,\n",
       " <matplotlib.lines.Line2D at 0x24429fab888>,\n",
       " <matplotlib.lines.Line2D at 0x24429fabb08>,\n",
       " <matplotlib.lines.Line2D at 0x24429fabd88>,\n",
       " <matplotlib.lines.Line2D at 0x24429fae048>,\n",
       " <matplotlib.lines.Line2D at 0x24429fae2c8>,\n",
       " <matplotlib.lines.Line2D at 0x24429fae548>,\n",
       " <matplotlib.lines.Line2D at 0x24429fae7c8>,\n",
       " <matplotlib.lines.Line2D at 0x24429faea48>,\n",
       " <matplotlib.lines.Line2D at 0x24429faecc8>,\n",
       " <matplotlib.lines.Line2D at 0x24429faef48>,\n",
       " <matplotlib.lines.Line2D at 0x24429fb1208>,\n",
       " <matplotlib.lines.Line2D at 0x24429fb1488>,\n",
       " <matplotlib.lines.Line2D at 0x24429fb1708>,\n",
       " <matplotlib.lines.Line2D at 0x24429fb1988>,\n",
       " <matplotlib.lines.Line2D at 0x24429fb1c08>,\n",
       " <matplotlib.lines.Line2D at 0x24429fb1e88>,\n",
       " <matplotlib.lines.Line2D at 0x24429fb4148>,\n",
       " <matplotlib.lines.Line2D at 0x24429fb43c8>,\n",
       " <matplotlib.lines.Line2D at 0x24429fb4648>,\n",
       " <matplotlib.lines.Line2D at 0x24429fb48c8>,\n",
       " <matplotlib.lines.Line2D at 0x24429fb4b48>,\n",
       " <matplotlib.lines.Line2D at 0x24429fb4dc8>,\n",
       " <matplotlib.lines.Line2D at 0x24429fb7088>,\n",
       " <matplotlib.lines.Line2D at 0x24429fb7308>,\n",
       " <matplotlib.lines.Line2D at 0x24429fb7588>,\n",
       " <matplotlib.lines.Line2D at 0x24429fb7808>,\n",
       " <matplotlib.lines.Line2D at 0x24429fb7a88>,\n",
       " <matplotlib.lines.Line2D at 0x24429fb7d08>,\n",
       " <matplotlib.lines.Line2D at 0x24429fb7f88>,\n",
       " <matplotlib.lines.Line2D at 0x24429fbb248>,\n",
       " <matplotlib.lines.Line2D at 0x24429fbb4c8>,\n",
       " <matplotlib.lines.Line2D at 0x24429fbb748>,\n",
       " <matplotlib.lines.Line2D at 0x24429fbb9c8>,\n",
       " <matplotlib.lines.Line2D at 0x24429fbbc48>,\n",
       " <matplotlib.lines.Line2D at 0x24429fbbec8>,\n",
       " <matplotlib.lines.Line2D at 0x24429fbd188>,\n",
       " <matplotlib.lines.Line2D at 0x24429fbd408>,\n",
       " <matplotlib.lines.Line2D at 0x24429fbd688>,\n",
       " <matplotlib.lines.Line2D at 0x24429fbd908>,\n",
       " <matplotlib.lines.Line2D at 0x24429fbdb88>,\n",
       " <matplotlib.lines.Line2D at 0x24429fbde08>,\n",
       " <matplotlib.lines.Line2D at 0x24429fc00c8>,\n",
       " <matplotlib.lines.Line2D at 0x24429fc0348>,\n",
       " <matplotlib.lines.Line2D at 0x24429fc05c8>,\n",
       " <matplotlib.lines.Line2D at 0x24429fc0848>,\n",
       " <matplotlib.lines.Line2D at 0x24429fc0ac8>,\n",
       " <matplotlib.lines.Line2D at 0x24429fc0d48>,\n",
       " <matplotlib.lines.Line2D at 0x24429fc0fc8>,\n",
       " <matplotlib.lines.Line2D at 0x24429fc3288>,\n",
       " <matplotlib.lines.Line2D at 0x24429fc3508>,\n",
       " <matplotlib.lines.Line2D at 0x24429fc3788>,\n",
       " <matplotlib.lines.Line2D at 0x24429fc3a08>,\n",
       " <matplotlib.lines.Line2D at 0x24429fc3c88>,\n",
       " <matplotlib.lines.Line2D at 0x24429fc3f08>,\n",
       " <matplotlib.lines.Line2D at 0x24429fc61c8>,\n",
       " <matplotlib.lines.Line2D at 0x24429fc6448>,\n",
       " <matplotlib.lines.Line2D at 0x24429fc66c8>,\n",
       " <matplotlib.lines.Line2D at 0x24429fc6948>,\n",
       " <matplotlib.lines.Line2D at 0x24429fc6bc8>,\n",
       " <matplotlib.lines.Line2D at 0x24429fc6e48>,\n",
       " <matplotlib.lines.Line2D at 0x24429fc9108>,\n",
       " <matplotlib.lines.Line2D at 0x24429fc9388>,\n",
       " <matplotlib.lines.Line2D at 0x24429fc9608>,\n",
       " <matplotlib.lines.Line2D at 0x24429fc9888>,\n",
       " <matplotlib.lines.Line2D at 0x24429fc9b08>,\n",
       " <matplotlib.lines.Line2D at 0x24429fc9d88>,\n",
       " <matplotlib.lines.Line2D at 0x24429fcc048>,\n",
       " <matplotlib.lines.Line2D at 0x24429fcc2c8>,\n",
       " <matplotlib.lines.Line2D at 0x24429fcc548>,\n",
       " <matplotlib.lines.Line2D at 0x24429fcc7c8>,\n",
       " <matplotlib.lines.Line2D at 0x24429fcca48>,\n",
       " <matplotlib.lines.Line2D at 0x24429fcccc8>,\n",
       " <matplotlib.lines.Line2D at 0x24429fccf48>,\n",
       " <matplotlib.lines.Line2D at 0x24429fcf208>,\n",
       " <matplotlib.lines.Line2D at 0x24429fcf488>,\n",
       " <matplotlib.lines.Line2D at 0x24429fcf708>,\n",
       " <matplotlib.lines.Line2D at 0x24429fcf988>,\n",
       " <matplotlib.lines.Line2D at 0x24429fcfc08>,\n",
       " <matplotlib.lines.Line2D at 0x24429fcfe88>,\n",
       " <matplotlib.lines.Line2D at 0x24429fd3148>,\n",
       " <matplotlib.lines.Line2D at 0x24429fd33c8>,\n",
       " <matplotlib.lines.Line2D at 0x24429fd3648>,\n",
       " <matplotlib.lines.Line2D at 0x24429fd38c8>,\n",
       " <matplotlib.lines.Line2D at 0x24429fd3b48>,\n",
       " <matplotlib.lines.Line2D at 0x24429fd3dc8>,\n",
       " <matplotlib.lines.Line2D at 0x24429fd6088>,\n",
       " <matplotlib.lines.Line2D at 0x24429fd6308>,\n",
       " <matplotlib.lines.Line2D at 0x24429fd6588>,\n",
       " <matplotlib.lines.Line2D at 0x24429fd6808>,\n",
       " <matplotlib.lines.Line2D at 0x24429fd6a88>,\n",
       " <matplotlib.lines.Line2D at 0x24429fd6d08>,\n",
       " <matplotlib.lines.Line2D at 0x24429fd6f88>,\n",
       " <matplotlib.lines.Line2D at 0x24429fd9248>,\n",
       " <matplotlib.lines.Line2D at 0x24429fd94c8>,\n",
       " <matplotlib.lines.Line2D at 0x24429fd9748>,\n",
       " <matplotlib.lines.Line2D at 0x24429fd99c8>,\n",
       " <matplotlib.lines.Line2D at 0x24429fd9c48>,\n",
       " <matplotlib.lines.Line2D at 0x24429fd9ec8>,\n",
       " <matplotlib.lines.Line2D at 0x24429fdc188>,\n",
       " <matplotlib.lines.Line2D at 0x24429fdc408>,\n",
       " <matplotlib.lines.Line2D at 0x24429fdc688>,\n",
       " <matplotlib.lines.Line2D at 0x24429fdc908>,\n",
       " <matplotlib.lines.Line2D at 0x24429fdcb88>,\n",
       " <matplotlib.lines.Line2D at 0x24429fdce08>,\n",
       " <matplotlib.lines.Line2D at 0x24429fde0c8>,\n",
       " <matplotlib.lines.Line2D at 0x24429fde348>,\n",
       " <matplotlib.lines.Line2D at 0x24429fde5c8>,\n",
       " <matplotlib.lines.Line2D at 0x24429fde848>,\n",
       " <matplotlib.lines.Line2D at 0x24429fdeac8>,\n",
       " <matplotlib.lines.Line2D at 0x24429fded48>,\n",
       " <matplotlib.lines.Line2D at 0x24429fdefc8>,\n",
       " <matplotlib.lines.Line2D at 0x24429fe1288>,\n",
       " <matplotlib.lines.Line2D at 0x24429fe1508>,\n",
       " <matplotlib.lines.Line2D at 0x24429fe1788>,\n",
       " <matplotlib.lines.Line2D at 0x24429fe1a08>,\n",
       " <matplotlib.lines.Line2D at 0x24429fe1c88>,\n",
       " <matplotlib.lines.Line2D at 0x24429fe1f08>,\n",
       " <matplotlib.lines.Line2D at 0x24429fe51c8>,\n",
       " <matplotlib.lines.Line2D at 0x24429fe5448>,\n",
       " <matplotlib.lines.Line2D at 0x24429fe56c8>,\n",
       " <matplotlib.lines.Line2D at 0x24429fe5948>,\n",
       " <matplotlib.lines.Line2D at 0x24429fe5bc8>,\n",
       " <matplotlib.lines.Line2D at 0x24429fe5e48>,\n",
       " <matplotlib.lines.Line2D at 0x24429fe8108>,\n",
       " <matplotlib.lines.Line2D at 0x24429fe8388>,\n",
       " <matplotlib.lines.Line2D at 0x24429fe8608>,\n",
       " <matplotlib.lines.Line2D at 0x24429fe8888>,\n",
       " <matplotlib.lines.Line2D at 0x24429fe8b08>,\n",
       " <matplotlib.lines.Line2D at 0x24429fe8d88>,\n",
       " <matplotlib.lines.Line2D at 0x24429feb048>,\n",
       " <matplotlib.lines.Line2D at 0x24429feb2c8>,\n",
       " <matplotlib.lines.Line2D at 0x24429feb548>,\n",
       " <matplotlib.lines.Line2D at 0x24429feb7c8>,\n",
       " <matplotlib.lines.Line2D at 0x24429feba48>,\n",
       " <matplotlib.lines.Line2D at 0x24429febcc8>,\n",
       " <matplotlib.lines.Line2D at 0x24429febf48>,\n",
       " <matplotlib.lines.Line2D at 0x24429fee208>,\n",
       " <matplotlib.lines.Line2D at 0x24429fee488>,\n",
       " <matplotlib.lines.Line2D at 0x24429fee708>,\n",
       " <matplotlib.lines.Line2D at 0x24429fee988>,\n",
       " <matplotlib.lines.Line2D at 0x24429feec08>,\n",
       " <matplotlib.lines.Line2D at 0x24429feee88>,\n",
       " <matplotlib.lines.Line2D at 0x24429ff0148>,\n",
       " <matplotlib.lines.Line2D at 0x24429ff03c8>,\n",
       " <matplotlib.lines.Line2D at 0x24429ff0648>,\n",
       " <matplotlib.lines.Line2D at 0x24429ff08c8>,\n",
       " <matplotlib.lines.Line2D at 0x24429ff0b48>,\n",
       " <matplotlib.lines.Line2D at 0x24429ff0dc8>,\n",
       " <matplotlib.lines.Line2D at 0x24429ff3088>,\n",
       " <matplotlib.lines.Line2D at 0x24429ff3308>,\n",
       " <matplotlib.lines.Line2D at 0x24429ff3588>,\n",
       " <matplotlib.lines.Line2D at 0x24429ff3808>,\n",
       " <matplotlib.lines.Line2D at 0x24429ff3a88>,\n",
       " <matplotlib.lines.Line2D at 0x24429ff3d08>,\n",
       " <matplotlib.lines.Line2D at 0x24429ff3f88>,\n",
       " <matplotlib.lines.Line2D at 0x24429ff6248>,\n",
       " <matplotlib.lines.Line2D at 0x24429ff64c8>,\n",
       " <matplotlib.lines.Line2D at 0x24429ff6748>,\n",
       " <matplotlib.lines.Line2D at 0x24429ff69c8>,\n",
       " <matplotlib.lines.Line2D at 0x24429ff6c48>,\n",
       " <matplotlib.lines.Line2D at 0x24429ff6ec8>,\n",
       " <matplotlib.lines.Line2D at 0x24429ffa188>,\n",
       " <matplotlib.lines.Line2D at 0x24429ffa408>,\n",
       " <matplotlib.lines.Line2D at 0x24429ffa688>,\n",
       " <matplotlib.lines.Line2D at 0x24429ffa908>,\n",
       " <matplotlib.lines.Line2D at 0x24429ffab88>,\n",
       " <matplotlib.lines.Line2D at 0x24429ffae08>,\n",
       " <matplotlib.lines.Line2D at 0x24429ffe0c8>,\n",
       " <matplotlib.lines.Line2D at 0x24429ffe348>,\n",
       " <matplotlib.lines.Line2D at 0x24429ffe5c8>,\n",
       " <matplotlib.lines.Line2D at 0x24429ffe848>,\n",
       " <matplotlib.lines.Line2D at 0x24429ffeac8>,\n",
       " <matplotlib.lines.Line2D at 0x24429ffed48>,\n",
       " <matplotlib.lines.Line2D at 0x24429ffefc8>,\n",
       " <matplotlib.lines.Line2D at 0x2442a000288>,\n",
       " <matplotlib.lines.Line2D at 0x2442a000508>,\n",
       " <matplotlib.lines.Line2D at 0x2442a000788>,\n",
       " <matplotlib.lines.Line2D at 0x2442a000a08>,\n",
       " <matplotlib.lines.Line2D at 0x2442a000c88>,\n",
       " <matplotlib.lines.Line2D at 0x2442a000f08>,\n",
       " <matplotlib.lines.Line2D at 0x2442a0031c8>,\n",
       " <matplotlib.lines.Line2D at 0x2442a003448>,\n",
       " <matplotlib.lines.Line2D at 0x2442a0036c8>,\n",
       " <matplotlib.lines.Line2D at 0x2442a003948>,\n",
       " <matplotlib.lines.Line2D at 0x2442a003bc8>,\n",
       " <matplotlib.lines.Line2D at 0x2442a003e48>,\n",
       " <matplotlib.lines.Line2D at 0x2442a006108>,\n",
       " <matplotlib.lines.Line2D at 0x2442a006388>,\n",
       " <matplotlib.lines.Line2D at 0x2442a006608>,\n",
       " <matplotlib.lines.Line2D at 0x2442a006888>,\n",
       " <matplotlib.lines.Line2D at 0x2442a006b08>,\n",
       " <matplotlib.lines.Line2D at 0x2442a006d88>,\n",
       " <matplotlib.lines.Line2D at 0x2442a009048>,\n",
       " <matplotlib.lines.Line2D at 0x2442a0092c8>,\n",
       " <matplotlib.lines.Line2D at 0x2442a009548>,\n",
       " <matplotlib.lines.Line2D at 0x2442a0097c8>,\n",
       " <matplotlib.lines.Line2D at 0x2442a009a48>,\n",
       " <matplotlib.lines.Line2D at 0x2442a009cc8>,\n",
       " <matplotlib.lines.Line2D at 0x2442a009f48>,\n",
       " <matplotlib.lines.Line2D at 0x2442a00c208>,\n",
       " <matplotlib.lines.Line2D at 0x2442a00c488>,\n",
       " <matplotlib.lines.Line2D at 0x2442a00c708>,\n",
       " <matplotlib.lines.Line2D at 0x2442a00c988>,\n",
       " <matplotlib.lines.Line2D at 0x2442a00cc08>,\n",
       " <matplotlib.lines.Line2D at 0x2442a00ce88>,\n",
       " <matplotlib.lines.Line2D at 0x2442a00f148>,\n",
       " <matplotlib.lines.Line2D at 0x2442a00f3c8>,\n",
       " <matplotlib.lines.Line2D at 0x2442a00f648>,\n",
       " <matplotlib.lines.Line2D at 0x2442a00f8c8>,\n",
       " <matplotlib.lines.Line2D at 0x2442a00fb48>,\n",
       " <matplotlib.lines.Line2D at 0x2442a00fdc8>,\n",
       " <matplotlib.lines.Line2D at 0x2442a012088>,\n",
       " <matplotlib.lines.Line2D at 0x2442a012308>,\n",
       " <matplotlib.lines.Line2D at 0x2442a012588>,\n",
       " <matplotlib.lines.Line2D at 0x2442a012808>,\n",
       " <matplotlib.lines.Line2D at 0x2442a012a88>,\n",
       " <matplotlib.lines.Line2D at 0x2442a012d08>,\n",
       " <matplotlib.lines.Line2D at 0x2442a012f88>,\n",
       " <matplotlib.lines.Line2D at 0x2442a015248>,\n",
       " <matplotlib.lines.Line2D at 0x2442a0154c8>,\n",
       " <matplotlib.lines.Line2D at 0x2442a015748>,\n",
       " <matplotlib.lines.Line2D at 0x2442a0159c8>,\n",
       " <matplotlib.lines.Line2D at 0x2442a015c48>,\n",
       " <matplotlib.lines.Line2D at 0x2442a015ec8>,\n",
       " <matplotlib.lines.Line2D at 0x2442a018188>,\n",
       " <matplotlib.lines.Line2D at 0x2442a018408>,\n",
       " <matplotlib.lines.Line2D at 0x2442a018688>,\n",
       " <matplotlib.lines.Line2D at 0x2442a018908>,\n",
       " <matplotlib.lines.Line2D at 0x2442a018b88>,\n",
       " <matplotlib.lines.Line2D at 0x2442a018e08>,\n",
       " <matplotlib.lines.Line2D at 0x2442a01b0c8>,\n",
       " <matplotlib.lines.Line2D at 0x2442a01b348>,\n",
       " <matplotlib.lines.Line2D at 0x2442a01b5c8>,\n",
       " <matplotlib.lines.Line2D at 0x2442a01b848>,\n",
       " <matplotlib.lines.Line2D at 0x2442a01bac8>,\n",
       " <matplotlib.lines.Line2D at 0x2442a01bd48>,\n",
       " <matplotlib.lines.Line2D at 0x2442a01bfc8>,\n",
       " <matplotlib.lines.Line2D at 0x2442a01e288>,\n",
       " <matplotlib.lines.Line2D at 0x2442a01e508>,\n",
       " <matplotlib.lines.Line2D at 0x2442a01e788>,\n",
       " <matplotlib.lines.Line2D at 0x2442a01ea08>,\n",
       " <matplotlib.lines.Line2D at 0x2442a01ec88>,\n",
       " <matplotlib.lines.Line2D at 0x2442a01ef08>,\n",
       " <matplotlib.lines.Line2D at 0x2442a0211c8>,\n",
       " <matplotlib.lines.Line2D at 0x2442a021448>,\n",
       " <matplotlib.lines.Line2D at 0x2442a0216c8>,\n",
       " <matplotlib.lines.Line2D at 0x2442a021948>,\n",
       " <matplotlib.lines.Line2D at 0x2442a021bc8>,\n",
       " <matplotlib.lines.Line2D at 0x2442a021e48>,\n",
       " <matplotlib.lines.Line2D at 0x2442a024108>,\n",
       " <matplotlib.lines.Line2D at 0x2442a024388>,\n",
       " <matplotlib.lines.Line2D at 0x2442a024608>,\n",
       " <matplotlib.lines.Line2D at 0x2442a024888>,\n",
       " <matplotlib.lines.Line2D at 0x2442a024b08>,\n",
       " <matplotlib.lines.Line2D at 0x2442a024d88>,\n",
       " <matplotlib.lines.Line2D at 0x2442a027048>,\n",
       " <matplotlib.lines.Line2D at 0x2442a0272c8>,\n",
       " <matplotlib.lines.Line2D at 0x2442a027548>,\n",
       " <matplotlib.lines.Line2D at 0x2442a0277c8>,\n",
       " <matplotlib.lines.Line2D at 0x2442a027a48>,\n",
       " <matplotlib.lines.Line2D at 0x2442a027cc8>]"
      ]
     },
     "execution_count": 50,
     "metadata": {},
     "output_type": "execute_result"
    },
    {
     "data": {
      "image/png": "[encoded data removed]",
      "text/plain": [
       "<Figure size 432x288 with 1 Axes>"
      ]
     },
     "metadata": {
      "needs_background": "light"
     },
     "output_type": "display_data"
    }
   ],
   "source": [
    "# pat G\n",
    "x=np.linspace(N, chart, 100)\n",
    "y= 2*x + 5\n",
    "\n",
    "plt.plot(x,y,'o')"
   ]
  },
  {
   "cell_type": "code",
   "execution_count": 52,
   "metadata": {},
   "outputs": [],
   "source": [
    "poly_coe=np.polyfit(N, chart, 2)"
   ]
  },
  {
   "cell_type": "code",
   "execution_count": 56,
   "metadata": {},
   "outputs": [
    {
     "data": {
      "text/plain": [
       "array([4.48856936e-10, 3.12983365e-06, 8.55804338e-05])"
      ]
     },
     "execution_count": 56,
     "metadata": {},
     "output_type": "execute_result"
    }
   ],
   "source": [
    "poly_coe"
   ]
  },
  {
   "cell_type": "code",
   "execution_count": 55,
   "metadata": {},
   "outputs": [
    {
     "data": {
      "text/plain": [
       "[<matplotlib.lines.Line2D at 0x2442baa7388>,\n",
       " <matplotlib.lines.Line2D at 0x2442baaeec8>]"
      ]
     },
     "execution_count": 55,
     "metadata": {},
     "output_type": "execute_result"
    },
    {
     "data": {
      "image/png": "[encoded data removed]",
      "text/plain": [
       "<Figure size 432x288 with 1 Axes>"
      ]
     },
     "metadata": {
      "needs_background": "light"
     },
     "output_type": "display_data"
    }
   ],
   "source": [
    "xnew=np.linspace(0,1000,100)\n",
    "ynew=np.poly1d(poly_coe)\n",
    "\n",
    "plt.plot(xnew,ynew(xnew),N, chart,  'o')"
   ]
  },
  {
   "cell_type": "code",
   "execution_count": 57,
   "metadata": {},
   "outputs": [
    {
     "data": {
      "text/plain": [
       "44916.992070570996"
      ]
     },
     "execution_count": 57,
     "metadata": {},
     "output_type": "execute_result"
    }
   ],
   "source": [
    "ynew(10**7)"
   ]
  },
  {
   "cell_type": "markdown",
   "metadata": {},
   "source": [
    "Part h)"
   ]
  },
  {
   "cell_type": "code",
   "execution_count": 331,
   "metadata": {},
   "outputs": [],
   "source": [
    "def DecToBin(num): \n",
    "    if num > 1: \n",
    "        DecToBin(num // 2)\n",
    "    print(num % 2, end = '')\n"
   ]
  },
  {
   "cell_type": "code",
   "execution_count": 332,
   "metadata": {},
   "outputs": [
    {
     "name": "stdout",
     "output_type": "stream",
     "text": [
      "1000"
     ]
    }
   ],
   "source": [
    "DecToBin(8)"
   ]
  },
  {
   "cell_type": "markdown",
   "metadata": {},
   "source": [
    "part i)"
   ]
  },
  {
   "cell_type": "code",
   "execution_count": 349,
   "metadata": {},
   "outputs": [],
   "source": [
    "def decimalToBinary(n): \n",
    "    return bin(n).replace(\"0b\",\"\")\n"
   ]
  },
  {
   "cell_type": "code",
   "execution_count": 492,
   "metadata": {},
   "outputs": [],
   "source": [
    "def Bin_rev_digit(n): \n",
    "    L=decimalToBinary(n)\n",
    "#    L=np.array(L)\n",
    "    L=[int(i) for i in L]\n",
    "    L=L[::-1]\n",
    "    m=len (L)-1\n",
    "    return(L)"
   ]
  },
  {
   "cell_type": "code",
   "execution_count": 494,
   "metadata": {},
   "outputs": [
    {
     "data": {
      "text/plain": [
       "[0, 1, 1, 0, 1]"
      ]
     },
     "execution_count": 494,
     "metadata": {},
     "output_type": "execute_result"
    }
   ],
   "source": [
    "L=Bin_rev_digit(22)\n",
    "L"
   ]
  },
  {
   "cell_type": "code",
   "execution_count": 486,
   "metadata": {},
   "outputs": [
    {
     "data": {
      "text/plain": [
       "'10110'"
      ]
     },
     "execution_count": 486,
     "metadata": {},
     "output_type": "execute_result"
    }
   ],
   "source": [
    "L=decimalToBinary(22)\n",
    "L"
   ]
  },
  {
   "cell_type": "code",
   "execution_count": 547,
   "metadata": {},
   "outputs": [],
   "source": [
    "def Dialer_Probelm_bin(S, N):\n",
    "    O=np.ones(10)\n",
    "    O=np.matrix(O)\n",
    "    O=O.T\n",
    "    B=np.array(A)\n",
    "    B=np.dot(B,B)\n",
    "    num=N-1\n",
    "    C=1\n",
    "    L=Bin_rev_digit(num)\n",
    "    m=0\n",
    "    while(m<len (L)):\n",
    "      \n",
    "        if L[m]>0:\n",
    "            B=np.power(B,m)\n",
    "            C=np.dot(B,C)\n",
    "            print (C)\n",
    "        m += 1\n",
    "   \n",
    "    C=np.dot(B,O)\n",
    " ##   return(L,C[S])\n",
    "    return(C)\n"
   ]
  },
  {
   "cell_type": "code",
   "execution_count": 548,
   "metadata": {},
   "outputs": [
    {
     "name": "stdout",
     "output_type": "stream",
     "text": [
      "[[1 1 1 1 1 1 1 1 1 1]\n",
      " [1 1 1 1 1 1 1 1 1 1]\n",
      " [1 1 1 1 1 1 1 1 1 1]\n",
      " [1 1 1 1 1 1 1 1 1 1]\n",
      " [1 1 1 1 1 1 1 1 1 1]\n",
      " [1 1 1 1 1 1 1 1 1 1]\n",
      " [1 1 1 1 1 1 1 1 1 1]\n",
      " [1 1 1 1 1 1 1 1 1 1]\n",
      " [1 1 1 1 1 1 1 1 1 1]\n",
      " [1 1 1 1 1 1 1 1 1 1]]\n"
     ]
    },
    {
     "data": {
      "text/plain": [
       "matrix([[10.],\n",
       "        [10.],\n",
       "        [10.],\n",
       "        [10.],\n",
       "        [10.],\n",
       "        [10.],\n",
       "        [10.],\n",
       "        [10.],\n",
       "        [10.],\n",
       "        [10.]])"
      ]
     },
     "execution_count": 548,
     "metadata": {},
     "output_type": "execute_result"
    }
   ],
   "source": [
    "Dialer_Probelm_bin(0, 2)"
   ]
  },
  {
   "cell_type": "markdown",
   "metadata": {},
   "source": [
    "No Idea why it's not working!"
   ]
  },
  {
   "cell_type": "markdown",
   "metadata": {},
   "source": [
    "Qustion 2"
   ]
  },
  {
   "cell_type": "code",
   "execution_count": 447,
   "metadata": {},
   "outputs": [
    {
     "data": {
      "text/plain": [
       "array([[ 1.75,  0.1 ],\n",
       "       [-0.58,  0.31],\n",
       "       [ 1.99,  1.54],\n",
       "       [ 1.6 ,  4.97],\n",
       "       [ 2.72,  2.43],\n",
       "       [ 2.83,  3.59],\n",
       "       [ 5.95,  7.71],\n",
       "       [ 4.75,  7.63],\n",
       "       [ 5.57,  5.6 ],\n",
       "       [ 9.82,  7.91]])"
      ]
     },
     "execution_count": 447,
     "metadata": {},
     "output_type": "execute_result"
    }
   ],
   "source": [
    "#a)\n",
    "D=np.array([[1.75,0.10],\n",
    "            [-0.58,0.31],\n",
    "           [1.99,1.54],\n",
    "            [1.60,4.97],\n",
    "           [2.72,2.43],\n",
    "           [2.83,3.59],\n",
    "           [5.95,7.71],\n",
    "           [4.75,7.63],\n",
    "           [5.57,5.60],\n",
    "           [9.82,7.91],])\n",
    "D\n"
   ]
  },
  {
   "cell_type": "code",
   "execution_count": 451,
   "metadata": {},
   "outputs": [
    {
     "data": {
      "text/plain": [
       "array([[ 1.75, -0.58,  1.99,  1.6 ,  2.72,  2.83,  5.95,  4.75,  5.57,\n",
       "         9.82],\n",
       "       [ 0.1 ,  0.31,  1.54,  4.97,  2.43,  3.59,  7.71,  7.63,  5.6 ,\n",
       "         7.91]])"
      ]
     },
     "execution_count": 451,
     "metadata": {},
     "output_type": "execute_result"
    }
   ],
   "source": [
    "W=D.T\n",
    "W"
   ]
  },
  {
   "cell_type": "code",
   "execution_count": 453,
   "metadata": {},
   "outputs": [],
   "source": [
    "W=np.cov(W)"
   ]
  },
  {
   "cell_type": "code",
   "execution_count": 456,
   "metadata": {},
   "outputs": [
    {
     "data": {
      "text/plain": [
       "(array([ 1.54387739, 16.3642215 ]),\n",
       " array([[-0.71937286, -0.69462414],\n",
       "        [ 0.69462414, -0.71937286]]))"
      ]
     },
     "execution_count": 456,
     "metadata": {},
     "output_type": "execute_result"
    }
   ],
   "source": [
    "#b)\n",
    "V=np.linalg.eig(W)\n",
    "V"
   ]
  },
  {
   "cell_type": "code",
   "execution_count": 463,
   "metadata": {},
   "outputs": [
    {
     "data": {
      "text/plain": [
       "matrix([[-0.69462414],\n",
       "        [-0.71937286]])"
      ]
     },
     "execution_count": 463,
     "metadata": {},
     "output_type": "execute_result"
    }
   ],
   "source": [
    "SF=E[1].T[1]\n",
    "SF=SF.T\n",
    "SF=np.matrix(SF)\n",
    "SF=SF.T\n",
    "SF"
   ]
  },
  {
   "cell_type": "code",
   "execution_count": 466,
   "metadata": {},
   "outputs": [
    {
     "data": {
      "text/plain": [
       "matrix([[ 1.75,  0.1 ],\n",
       "        [-0.58,  0.31],\n",
       "        [ 1.99,  1.54],\n",
       "        [ 1.6 ,  4.97],\n",
       "        [ 2.72,  2.43],\n",
       "        [ 2.83,  3.59],\n",
       "        [ 5.95,  7.71],\n",
       "        [ 4.75,  7.63],\n",
       "        [ 5.57,  5.6 ],\n",
       "        [ 9.82,  7.91]])"
      ]
     },
     "execution_count": 466,
     "metadata": {},
     "output_type": "execute_result"
    }
   ],
   "source": [
    "# part c)\n",
    "D=np.matrix(D)\n",
    "D"
   ]
  },
  {
   "cell_type": "code",
   "execution_count": 465,
   "metadata": {},
   "outputs": [
    {
     "data": {
      "text/plain": [
       "matrix([[ -1.28752953],\n",
       "        [  0.17987641],\n",
       "        [ -2.49013623],\n",
       "        [ -4.68668172],\n",
       "        [ -3.6374537 ],\n",
       "        [ -4.54833487],\n",
       "        [ -9.67937835],\n",
       "        [ -8.78827955],\n",
       "        [ -7.89754445],\n",
       "        [-12.51144833]])"
      ]
     },
     "execution_count": 465,
     "metadata": {},
     "output_type": "execute_result"
    }
   ],
   "source": [
    "D*SF"
   ]
  },
  {
   "cell_type": "code",
   "execution_count": null,
   "metadata": {},
   "outputs": [],
   "source": []
  }
 ],
 "metadata": {
  "kernelspec": {
   "display_name": "PHYS247",
   "language": "python",
   "name": "phys247"
  },
  "language_info": {
   "codemirror_mode": {
    "name": "ipython",
    "version": 3
   },
   "file_extension": ".py",
   "mimetype": "text/x-python",
   "name": "python",
   "nbconvert_exporter": "python",
   "pygments_lexer": "ipython3",
   "version": "3.7.6"
  }
 },
 "nbformat": 4,
 "nbformat_minor": 4
}
