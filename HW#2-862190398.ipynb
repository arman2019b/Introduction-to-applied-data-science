{
 "cells": [
  {
   "cell_type": "markdown",
   "metadata": {},
   "source": [
    "HW#2,\n",
    "Seyed Mohammad kami shirazi,\n",
    "ID: 862190398,\n",
    "    PHYS247"
   ]
  },
  {
   "cell_type": "markdown",
   "metadata": {},
   "source": [
    "Part a)"
   ]
  },
  {
   "cell_type": "code",
   "execution_count": 11,
   "metadata": {},
   "outputs": [],
   "source": [
    "import numpy as np\n",
    "import matplotlib.pylab as plt\n",
    "import pandas as pd\n",
    "from collections import Counter"
   ]
  },
  {
   "cell_type": "code",
   "execution_count": 38,
   "metadata": {},
   "outputs": [
    {
     "data": {
      "text/html": [
       "<div>\n",
       "<style scoped>\n",
       "    .dataframe tbody tr th:only-of-type {\n",
       "        vertical-align: middle;\n",
       "    }\n",
       "\n",
       "    .dataframe tbody tr th {\n",
       "        vertical-align: top;\n",
       "    }\n",
       "\n",
       "    .dataframe thead th {\n",
       "        text-align: right;\n",
       "    }\n",
       "</style>\n",
       "<table border=\"1\" class=\"dataframe\">\n",
       "  <thead>\n",
       "    <tr style=\"text-align: right;\">\n",
       "      <th></th>\n",
       "      <th>week</th>\n",
       "      <th>count</th>\n",
       "    </tr>\n",
       "  </thead>\n",
       "  <tbody>\n",
       "    <tr>\n",
       "      <th>0</th>\n",
       "      <td>1</td>\n",
       "      <td>39.0</td>\n",
       "    </tr>\n",
       "    <tr>\n",
       "      <th>1</th>\n",
       "      <td>2</td>\n",
       "      <td>46.0</td>\n",
       "    </tr>\n",
       "    <tr>\n",
       "      <th>2</th>\n",
       "      <td>3</td>\n",
       "      <td>41.0</td>\n",
       "    </tr>\n",
       "    <tr>\n",
       "      <th>3</th>\n",
       "      <td>4</td>\n",
       "      <td>42.0</td>\n",
       "    </tr>\n",
       "    <tr>\n",
       "      <th>4</th>\n",
       "      <td>5</td>\n",
       "      <td>31.0</td>\n",
       "    </tr>\n",
       "  </tbody>\n",
       "</table>\n",
       "</div>"
      ],
      "text/plain": [
       "   week  count\n",
       "0     1   39.0\n",
       "1     2   46.0\n",
       "2     3   41.0\n",
       "3     4   42.0\n",
       "4     5   31.0"
      ]
     },
     "execution_count": 38,
     "metadata": {},
     "output_type": "execute_result"
    }
   ],
   "source": [
    "tweet=pd.read_csv('tweet_counts.csv')\n",
    "tweet.head()"
   ]
  },
  {
   "cell_type": "code",
   "execution_count": 53,
   "metadata": {},
   "outputs": [],
   "source": [
    "def read_datafile(file_name):\n",
    "    # the skiprows keyword is for heading, but I don't know if trailing lines\n",
    "    # can be specified\n",
    "    data = np.loadtxt(file_name, delimiter=',', skiprows=1)\n",
    "    return data"
   ]
  },
  {
   "cell_type": "code",
   "execution_count": 54,
   "metadata": {},
   "outputs": [
    {
     "data": {
      "text/plain": [
       "array([[ 1., 39.],\n",
       "       [ 2., 46.],\n",
       "       [ 3., 41.],\n",
       "       [ 4., 42.],\n",
       "       [ 5., 31.],\n",
       "       [ 6., 44.],\n",
       "       [ 7., 33.],\n",
       "       [ 8., 42.],\n",
       "       [ 9., 31.],\n",
       "       [10., 28.],\n",
       "       [11., 36.],\n",
       "       [12., 40.],\n",
       "       [13., 33.],\n",
       "       [14., 45.],\n",
       "       [15., 42.],\n",
       "       [16., 28.],\n",
       "       [17., 34.],\n",
       "       [18., 42.],\n",
       "       [19., 45.],\n",
       "       [20., 37.],\n",
       "       [21., 39.],\n",
       "       [22., 35.],\n",
       "       [23., 28.],\n",
       "       [24., 30.],\n",
       "       [25., 24.],\n",
       "       [26., 40.],\n",
       "       [27., 22.],\n",
       "       [28., 46.],\n",
       "       [29., 37.],\n",
       "       [30., 37.],\n",
       "       [31., 38.],\n",
       "       [32., 36.],\n",
       "       [33., 41.],\n",
       "       [34., 38.],\n",
       "       [35., 42.],\n",
       "       [36., 43.],\n",
       "       [37., 30.],\n",
       "       [38., 45.],\n",
       "       [39., 46.],\n",
       "       [40., 51.],\n",
       "       [41., 55.],\n",
       "       [42., 36.],\n",
       "       [43., 42.],\n",
       "       [44., 44.],\n",
       "       [45., 36.],\n",
       "       [46., 44.],\n",
       "       [47., 41.],\n",
       "       [48., 38.],\n",
       "       [49., 38.],\n",
       "       [50., 56.],\n",
       "       [51., 39.],\n",
       "       [52., 40.]])"
      ]
     },
     "execution_count": 54,
     "metadata": {},
     "output_type": "execute_result"
    }
   ],
   "source": [
    "data = read_datafile('tweet_counts.csv')\n",
    "data"
   ]
  },
  {
   "cell_type": "code",
   "execution_count": 138,
   "metadata": {},
   "outputs": [
    {
     "data": {
      "text/plain": [
       "array([ 1.,  2.,  3.,  4.,  5.,  6.,  7.,  8.,  9., 10., 11., 12., 13.,\n",
       "       14., 15., 16., 17., 18., 19., 20., 21., 22., 23., 24., 25., 26.,\n",
       "       27., 28., 29., 30., 31., 32., 33., 34., 35., 36., 37., 38., 39.,\n",
       "       40., 41., 42., 43., 44., 45., 46., 47., 48., 49., 50., 51., 52.])"
      ]
     },
     "execution_count": 138,
     "metadata": {},
     "output_type": "execute_result"
    }
   ],
   "source": [
    "x= data[:,0]\n",
    "y= data[:,1]\n",
    "x"
   ]
  },
  {
   "cell_type": "code",
   "execution_count": 182,
   "metadata": {},
   "outputs": [
    {
     "data": {
      "text/plain": [
       "Text(0.5, 1.0, 'Weekly tweet counts')"
      ]
     },
     "execution_count": 182,
     "metadata": {},
     "output_type": "execute_result"
    },
    {
     "data": {
      "image/png": "[encoded data removed]",
      "text/plain": [
       "<Figure size 1080x216 with 1 Axes>"
      ]
     },
     "metadata": {
      "needs_background": "light"
     },
     "output_type": "display_data"
    }
   ],
   "source": [
    "plt.figure(figsize=(15,3))\n",
    "plt.bar(np.arange(1,53),y, color='green',edgecolor='black')\n",
    "plt.hlines(avg,0,53,color='red')\n",
    "plt.xlim(0,53)\n",
    "plt.xlabel('Week',fontsize=15)\n",
    "plt.ylabel('tweet counts',fontsize=15)\n",
    "plt.title('Weekly tweet counts', fontsize=20)"
   ]
  },
  {
   "cell_type": "code",
   "execution_count": 60,
   "metadata": {
    "scrolled": true
   },
   "outputs": [
    {
     "data": {
      "text/plain": [
       "array([54, 49, 49, 45, 58, 50, 53, 48, 58, 51, 44, 44, 57, 53, 34, 43, 56,\n",
       "       55, 53, 46, 55, 62, 51, 54, 49, 41, 52, 53, 57, 48, 60, 62, 59, 53,\n",
       "       57, 54, 44, 44, 43, 69, 50, 43, 47, 42, 53, 44, 45, 47, 48, 50, 44,\n",
       "       40])"
      ]
     },
     "execution_count": 60,
     "metadata": {},
     "output_type": "execute_result"
    }
   ],
   "source": [
    "tweet1"
   ]
  },
  {
   "cell_type": "code",
   "execution_count": 78,
   "metadata": {},
   "outputs": [
    {
     "data": {
      "text/plain": [
       "38.76923076923077"
      ]
     },
     "execution_count": 78,
     "metadata": {},
     "output_type": "execute_result"
    }
   ],
   "source": [
    "avg=np.average(y)\n",
    "avg"
   ]
  },
  {
   "cell_type": "code",
   "execution_count": 98,
   "metadata": {
    "scrolled": true
   },
   "outputs": [
    {
     "data": {
      "text/plain": [
       "38.76923076923077"
      ]
     },
     "execution_count": 98,
     "metadata": {},
     "output_type": "execute_result"
    }
   ],
   "source": [
    "avg=np.average(y, 0)\n",
    "avg"
   ]
  },
  {
   "cell_type": "markdown",
   "metadata": {},
   "source": [
    "just practice "
   ]
  },
  {
   "cell_type": "code",
   "execution_count": 69,
   "metadata": {},
   "outputs": [],
   "source": [
    "Poisson=lambda k,λ : (λ**k)*np.exp(-λ)/np.math.factorial(k)"
   ]
  },
  {
   "cell_type": "code",
   "execution_count": 67,
   "metadata": {},
   "outputs": [],
   "source": [
    "t=np.random.poisson(10,100000)"
   ]
  },
  {
   "cell_type": "code",
   "execution_count": 88,
   "metadata": {},
   "outputs": [
    {
     "data": {
      "text/plain": [
       "<numpy.vectorize at 0x248cefa1948>"
      ]
     },
     "execution_count": 88,
     "metadata": {},
     "output_type": "execute_result"
    }
   ],
   "source": [
    "Poisson=np.vectorize(Poisson)\n",
    "Poisson"
   ]
  },
  {
   "cell_type": "code",
   "execution_count": 86,
   "metadata": {
    "scrolled": true
   },
   "outputs": [
    {
     "data": {
      "image/png": "[encoded data removed]",
      "text/plain": [
       "<Figure size 576x360 with 1 Axes>"
      ]
     },
     "metadata": {
      "needs_background": "light"
     },
     "output_type": "display_data"
    }
   ],
   "source": [
    "plt.figure(figsize=(8,5))\n",
    "plt.hist(t, density=True)\n",
    "plt.plot(np.arange(25),Poisson(np.arange(25),10),c='r', marker='o')\n",
    "plt.ylabel('P',fontsize=15)\n",
    "plt.xlabel('k', fontsize=15)\n",
    "plt.show()"
   ]
  },
  {
   "cell_type": "markdown",
   "metadata": {},
   "source": [
    "part B)"
   ]
  },
  {
   "cell_type": "code",
   "execution_count": 169,
   "metadata": {
    "scrolled": true
   },
   "outputs": [
    {
     "name": "stderr",
     "output_type": "stream",
     "text": [
      "C:\\Users\\USER\\anaconda3\\lib\\site-packages\\ipykernel_launcher.py:8: MatplotlibDeprecationWarning: Adding an axes using the same arguments as a previous axes currently reuses the earlier instance.  In a future version, a new instance will always be created and returned.  Meanwhile, this warning can be suppressed, and the future behavior ensured, by passing a unique label to each axes instance.\n",
      "  \n"
     ]
    },
    {
     "data": {
      "image/png": "[encoded data removed]",
      "text/plain": [
       "<Figure size 1080x216 with 1 Axes>"
      ]
     },
     "metadata": {
      "needs_background": "light"
     },
     "output_type": "display_data"
    }
   ],
   "source": [
    "temp_av=[np.average(y)]*len(data[2])\n",
    "\n",
    "#I dont know how to extend it to 53 array ??\n",
    "\n",
    "plt.figure(figsize=(15,3))\n",
    "plt.bar(np.arange(1,53),y, color='yellow',edgecolor='black')\n",
    "\n",
    "plt.subplot(111)\n",
    "plt.scatter(data[0],data[1])\n",
    "plt.plot(data[0],temp_av, \"m--\")\n",
    "\n",
    "plt.xlim(0,53)\n",
    "plt.xlabel('Week',fontsize=15)\n",
    "plt.ylabel('tweet counts',fontsize=15)\n",
    "plt.title('Weekly tweet counts', fontsize=20)\n",
    "plt.show()"
   ]
  },
  {
   "cell_type": "markdown",
   "metadata": {},
   "source": [
    "part c)"
   ]
  },
  {
   "cell_type": "markdown",
   "metadata": {},
   "source": [
    "$P(\\lambda)=\\alpha e^{-\\alpha\\lambda} $\n"
   ]
  },
  {
   "cell_type": "markdown",
   "metadata": {},
   "source": [
    "$E(λ)=\\int \\lambda P(\\lambda) d\\lambda$"
   ]
  },
  {
   "cell_type": "markdown",
   "metadata": {},
   "source": [
    "$E(λ)=\\int \\lambda P(\\lambda) d\\lambda= \\alpha \\int  e^{-\\alpha\\lambda} \\lambda d\\lambda$"
   ]
  },
  {
   "cell_type": "markdown",
   "metadata": {},
   "source": [
    "$=-e^{-\\alpha\\lambda} \\lambda - (e^{-\\alpha\\lambda}/\\alpha) +C$"
   ]
  },
  {
   "cell_type": "markdown",
   "metadata": {},
   "source": [
    "$=0 -(-1/\\alpha)=(1/\\alpha)$"
   ]
  },
  {
   "cell_type": "markdown",
   "metadata": {},
   "source": [
    "part D)"
   ]
  },
  {
   "cell_type": "code",
   "execution_count": 176,
   "metadata": {},
   "outputs": [],
   "source": [
    "Exp=lambda λ,α:α *np.exp(-α*λ)\n",
    "Exp=np.vectorize(Exp)\n",
    "# α is 1/38.7= 0.025"
   ]
  },
  {
   "cell_type": "code",
   "execution_count": 177,
   "metadata": {},
   "outputs": [
    {
     "data": {
      "image/png": "[encoded data removed]",
      "text/plain": [
       "<Figure size 432x288 with 1 Axes>"
      ]
     },
     "metadata": {
      "needs_background": "light"
     },
     "output_type": "display_data"
    }
   ],
   "source": [
    "plt.plot(np.linspace(0,200,1000),Exp(np.linspace(0,200,1000),0.025),c='r')\n",
    "plt.xlabel('$\\lambda$', fontsize=15)\n",
    "plt.ylabel('$P$', fontsize=15)\n",
    "plt.show()"
   ]
  },
  {
   "cell_type": "markdown",
   "metadata": {},
   "source": [
    "part E)"
   ]
  },
  {
   "cell_type": "code",
   "execution_count": 189,
   "metadata": {},
   "outputs": [],
   "source": [
    "λ1_est=np.linspace(25,50,50)\n",
    "λ2_est=np.linspace(25,50,50)\n",
    "Ws_est=np.arange(1,53,1)"
   ]
  },
  {
   "cell_type": "code",
   "execution_count": 205,
   "metadata": {},
   "outputs": [],
   "source": [
    "#y is the tweets and x is the weeks\n",
    "def Posterior_tweet(λ1_est,λ2_est,Ws_est):\n",
    "    P=1\n",
    "    α=avg\n",
    "    for i in y[x<Ws_est]:\n",
    "        P=P*Poisson(i, λ1_est)*α *np.exp(-α*λ1_est)\n",
    "        \n",
    "    for j in y[x>=Ws_est]:\n",
    "        P=P*Poisson(j, λ2_est)*α *np.exp(-α*λ2_est)\n",
    "        \n",
    "    return (P)"
   ]
  },
  {
   "cell_type": "code",
   "execution_count": 238,
   "metadata": {},
   "outputs": [],
   "source": [
    "P_=np.array([])\n",
    "for j in y:\n",
    "    P_=np.append(P_,Posterior_tweet(j,j,30))"
   ]
  },
  {
   "cell_type": "code",
   "execution_count": 258,
   "metadata": {},
   "outputs": [
    {
     "ename": "TypeError",
     "evalue": "'<' not supported between instances of 'float' and 'vectorize'",
     "output_type": "error",
     "traceback": [
      "\u001b[1;31m---------------------------------------------------------------------------\u001b[0m",
      "\u001b[1;31mTypeError\u001b[0m                                 Traceback (most recent call last)",
      "\u001b[1;32m<ipython-input-258-aed2ceb08dbf>\u001b[0m in \u001b[0;36m<module>\u001b[1;34m\u001b[0m\n\u001b[1;32m----> 1\u001b[1;33m \u001b[0mPosterior\u001b[0m\u001b[1;33m=\u001b[0m\u001b[0mPosterior_tweet\u001b[0m\u001b[1;33m(\u001b[0m\u001b[0mλ1_est_mesh\u001b[0m\u001b[1;33m,\u001b[0m\u001b[0mλ2_est_mesh\u001b[0m\u001b[1;33m,\u001b[0m\u001b[0mWs_est_mesh\u001b[0m\u001b[1;33m)\u001b[0m\u001b[1;33m\u001b[0m\u001b[1;33m\u001b[0m\u001b[0m\n\u001b[0m\u001b[0;32m      2\u001b[0m \u001b[1;33m\u001b[0m\u001b[0m\n\u001b[0;32m      3\u001b[0m \u001b[0mplt\u001b[0m\u001b[1;33m.\u001b[0m\u001b[0mfigure\u001b[0m\u001b[1;33m(\u001b[0m\u001b[0mfigsize\u001b[0m\u001b[1;33m=\u001b[0m\u001b[1;33m(\u001b[0m\u001b[1;36m8\u001b[0m\u001b[1;33m,\u001b[0m\u001b[1;36m5\u001b[0m\u001b[1;33m)\u001b[0m\u001b[1;33m)\u001b[0m\u001b[1;33m\u001b[0m\u001b[1;33m\u001b[0m\u001b[0m\n\u001b[0;32m      4\u001b[0m \u001b[0mplt\u001b[0m\u001b[1;33m.\u001b[0m\u001b[0mplot\u001b[0m\u001b[1;33m(\u001b[0m\u001b[0mλ1_est\u001b[0m\u001b[1;33m,\u001b[0m\u001b[0mλ2_est\u001b[0m\u001b[1;33m,\u001b[0m\u001b[0mPosterior\u001b[0m\u001b[1;33m)\u001b[0m\u001b[1;33m\u001b[0m\u001b[1;33m\u001b[0m\u001b[0m\n",
      "\u001b[1;32m<ipython-input-205-039a41d34fb2>\u001b[0m in \u001b[0;36mPosterior_tweet\u001b[1;34m(λ1_est, λ2_est, Ws_est)\u001b[0m\n\u001b[0;32m      3\u001b[0m     \u001b[0mP\u001b[0m\u001b[1;33m=\u001b[0m\u001b[1;36m1\u001b[0m\u001b[1;33m\u001b[0m\u001b[1;33m\u001b[0m\u001b[0m\n\u001b[0;32m      4\u001b[0m     \u001b[0mα\u001b[0m\u001b[1;33m=\u001b[0m\u001b[0mavg\u001b[0m\u001b[1;33m\u001b[0m\u001b[1;33m\u001b[0m\u001b[0m\n\u001b[1;32m----> 5\u001b[1;33m     \u001b[1;32mfor\u001b[0m \u001b[0mi\u001b[0m \u001b[1;32min\u001b[0m \u001b[0my\u001b[0m\u001b[1;33m[\u001b[0m\u001b[0mx\u001b[0m\u001b[1;33m<\u001b[0m\u001b[0mWs_est\u001b[0m\u001b[1;33m]\u001b[0m\u001b[1;33m:\u001b[0m\u001b[1;33m\u001b[0m\u001b[1;33m\u001b[0m\u001b[0m\n\u001b[0m\u001b[0;32m      6\u001b[0m         \u001b[0mP\u001b[0m\u001b[1;33m=\u001b[0m\u001b[0mP\u001b[0m\u001b[1;33m*\u001b[0m\u001b[0mPoisson\u001b[0m\u001b[1;33m(\u001b[0m\u001b[0mi\u001b[0m\u001b[1;33m,\u001b[0m \u001b[0mλ1_est\u001b[0m\u001b[1;33m)\u001b[0m\u001b[1;33m*\u001b[0m\u001b[0mα\u001b[0m \u001b[1;33m*\u001b[0m\u001b[0mnp\u001b[0m\u001b[1;33m.\u001b[0m\u001b[0mexp\u001b[0m\u001b[1;33m(\u001b[0m\u001b[1;33m-\u001b[0m\u001b[0mα\u001b[0m\u001b[1;33m*\u001b[0m\u001b[0mλ1_est\u001b[0m\u001b[1;33m)\u001b[0m\u001b[1;33m\u001b[0m\u001b[1;33m\u001b[0m\u001b[0m\n\u001b[0;32m      7\u001b[0m \u001b[1;33m\u001b[0m\u001b[0m\n",
      "\u001b[1;31mTypeError\u001b[0m: '<' not supported between instances of 'float' and 'vectorize'"
     ]
    }
   ],
   "source": [
    "Posterior=Posterior_tweet(λ1_est_mesh,λ2_est_mesh,Ws_est_mesh)\n",
    "\n",
    "plt.figure(figsize=(8,5))\n",
    "plt.plot(λ1_est,λ2_est,Posterior)"
   ]
  },
  {
   "cell_type": "markdown",
   "metadata": {},
   "source": [
    "part f)"
   ]
  },
  {
   "cell_type": "code",
   "execution_count": 247,
   "metadata": {},
   "outputs": [],
   "source": [
    " λ1_est_mesh,λ2_est_mesh, Ws_est_mesh=np.meshgrid(λ1_est,λ2_est,Ws_est)"
   ]
  },
  {
   "cell_type": "code",
   "execution_count": 251,
   "metadata": {},
   "outputs": [],
   "source": [
    " λ1_est_mesht=np.vectorize( λ1_est_mesh)\n",
    "λ2_est_mesht=np.vectorize( λ2_est_mesh)\n",
    "Ws_est_mesh=np.vectorize( Ws_est_mesh)"
   ]
  },
  {
   "cell_type": "code",
   "execution_count": 257,
   "metadata": {},
   "outputs": [
    {
     "data": {
      "text/plain": [
       "0.0"
      ]
     },
     "execution_count": 257,
     "metadata": {},
     "output_type": "execute_result"
    }
   ],
   "source": [
    "Posterior"
   ]
  },
  {
   "cell_type": "code",
   "execution_count": null,
   "metadata": {},
   "outputs": [],
   "source": []
  }
 ],
 "metadata": {
  "kernelspec": {
   "display_name": "PHYS247",
   "language": "python",
   "name": "phys247"
  },
  "language_info": {
   "codemirror_mode": {
    "name": "ipython",
    "version": 3
   },
   "file_extension": ".py",
   "mimetype": "text/x-python",
   "name": "python",
   "nbconvert_exporter": "python",
   "pygments_lexer": "ipython3",
   "version": "3.7.6"
  }
 },
 "nbformat": 4,
 "nbformat_minor": 4
}
